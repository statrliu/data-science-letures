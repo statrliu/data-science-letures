{
  "nbformat": 4,
  "nbformat_minor": 0,
  "metadata": {
    "colab": {
      "provenance": [],
      "authorship_tag": "ABX9TyM7PEV1eyb3jYk6gKSYNgZQ",
      "include_colab_link": true
    },
    "kernelspec": {
      "name": "python3",
      "display_name": "Python 3"
    },
    "language_info": {
      "name": "python"
    }
  },
  "cells": [
    {
      "cell_type": "markdown",
      "metadata": {
        "id": "view-in-github",
        "colab_type": "text"
      },
      "source": [
        "<a href=\"https://colab.research.google.com/github/statrliu/data-science-letures/blob/main/Introduction_to_Python_for_Data_Science_1.ipynb\" target=\"_parent\"><img src=\"https://colab.research.google.com/assets/colab-badge.svg\" alt=\"Open In Colab\"/></a>"
      ]
    },
    {
      "cell_type": "markdown",
      "source": [
        "#**Full Cycle of a Data Science Project**\n",
        "  1. Defining the Problem to Solve \n",
        "  2. Collecting Data\n",
        "  3. Manipulating Data\n",
        "  4. Building, Evaluating, and Selecting Models\n",
        "  5. Delivering Results "
      ],
      "metadata": {
        "id": "6-6bsnKJKvFU"
      }
    },
    {
      "cell_type": "markdown",
      "source": [
        "# **Overview of Data Manipulation**\n",
        "+ Cleaning the data\n",
        "  + Investigating errors/inconsistency/outliers\n",
        "  + Investigating missing values \n",
        "+ Formating and combining multiple data sets\n",
        "+ Generating new features\n",
        "\n",
        "\n"
      ],
      "metadata": {
        "id": "RKTVSg0BYzgz"
      }
    },
    {
      "cell_type": "markdown",
      "source": [
        "# **Python for Data Science**\n"
      ],
      "metadata": {
        "id": "OHh3T4vlb5AP"
      }
    },
    {
      "cell_type": "code",
      "source": [
        "# Check Python version\n",
        "import sys\n",
        "sys.version"
      ],
      "metadata": {
        "colab": {
          "base_uri": "https://localhost:8080/",
          "height": 35
        },
        "id": "_WVIbH3f0HdU",
        "outputId": "b06706cc-db68-440d-c7f2-5a2bc396f0cf"
      },
      "execution_count": 3,
      "outputs": [
        {
          "output_type": "execute_result",
          "data": {
            "text/plain": [
              "'3.8.10 (default, Nov 14 2022, 12:59:47) \\n[GCC 9.4.0]'"
            ],
            "application/vnd.google.colaboratory.intrinsic+json": {
              "type": "string"
            }
          },
          "metadata": {},
          "execution_count": 3
        }
      ]
    },
    {
      "cell_type": "markdown",
      "source": [
        "## _Object and Type (Class)_\n",
        "\n",
        "**Object:** An object can hold data (attributes) and perform operations (methods). For example:\n",
        "+ An integer object can hold integer values and support arithmetic operations such as addition and subtraction. \n",
        "+ A string object can hold text values and support operations such as concatenation and substring extraction.\n",
        "\n",
        "**Type/Class:** A Python type is a classification of objects based on their characteristics and the operations they support. \n",
        "\n",
        "***In Python, almost everything is an object.***\n",
        "\n",
        "***task***: Find the type of an object\n",
        "```\n",
        "#using build in type() function\n",
        "type(10)\n",
        "type(1.5)\n",
        "```\n",
        "\n",
        "***task***: List an type/object's attributes (both data and method).\n",
        "```\n",
        "dir(10)\n",
        "dir(int)\n",
        "```\n",
        "\n",
        "***task***: Access an object's data/method using `.` notation \n",
        "```\n",
        "(10).real\n",
        "(10).__str__() # same as str(10)\n",
        "```\n",
        "\n",
        "**Variables (Object reference)**\n",
        "\n",
        "In Python, if you create a variable `x` and assign it a value of 25, Python creates an integer object with a value of 5 and assigns a reference to that object to the variable `x`. You can then perform operations on that object, such as adding `x` to another integer.\n",
        "\n",
        "***task:*** Find the unique id (memory address) for an object.\n",
        "```\n",
        "# Using build in id() function\n",
        "id(20)\n",
        "id(\"data\")\n",
        "```\n",
        "\n",
        "**Assignment Statement:** \n",
        "\n",
        "```\n",
        "small_int = 10 # snake case\n",
        "largeFloat = 1234567.89 # camel case\n",
        "HighVolumn = 6789 # pascal case\n",
        "```\n",
        "\n",
        "**Naming rules:**\n",
        "\n",
        "+ A variable name must start with a letter or the underscore character\n",
        "\n",
        "+ A variable name cannot start with a number\n",
        "\n",
        "+ A variable name can only contain alpha-numeric characters and underscores `(A-z, 0-9, and _ )`\n",
        "\n",
        "+ Variable names are case-sensitive (`sd` and `SD` are different )\n",
        "\n",
        "+ Using meaningfull names (`counter` is better than `c`)\n",
        "\n",
        "\n",
        "\n"
      ],
      "metadata": {
        "id": "LfJ2OaH0joa4"
      }
    },
    {
      "cell_type": "code",
      "source": [],
      "metadata": {
        "colab": {
          "base_uri": "https://localhost:8080/"
        },
        "id": "6WOXFN4hrYM4",
        "outputId": "c93cd3fa-bfe7-404f-f8d4-dac5db5bcf3b"
      },
      "execution_count": 1,
      "outputs": [
        {
          "output_type": "execute_result",
          "data": {
            "text/plain": [
              "float"
            ]
          },
          "metadata": {},
          "execution_count": 1
        }
      ]
    },
    {
      "cell_type": "markdown",
      "source": [
        "## _Fundamental Data Types_"
      ],
      "metadata": {
        "id": "U023ZqZ2sM2b"
      }
    },
    {
      "cell_type": "markdown",
      "source": [
        "### **Integer and Float**\n",
        "\n",
        "#### *Arithmetic Operators*\n",
        "\n",
        "#### *Augmented Assignment Operators*\n",
        "\n",
        "\n",
        "Floating numbers in computer are just approximations.\n",
        "(https://docs.python.org/3/tutorial/floatingpoint.html)\n",
        "\n",
        "```\n",
        "0.1 + 0.1 + 0.1 == 0.3\n",
        "format(0.1, '.20f')\n",
        "``` \n",
        "\n",
        "When dealing with float numbers, don't use `==` for equality comparision. Use `isclose` funtion in the `math` module. \n",
        "```\n",
        "import math\n",
        "math.isclose(18/3, 6, rel_tol = 0.001, abs_tol = 0.001)\n",
        "```"
      ],
      "metadata": {
        "id": "x7gpaQa__-0C"
      }
    },
    {
      "cell_type": "code",
      "source": [
        "import math\n",
        "math.isclose(18/3, 6, rel_tol = 0.001, abs_tol = 0.001)"
      ],
      "metadata": {
        "colab": {
          "base_uri": "https://localhost:8080/"
        },
        "id": "WaO-vuUyMa-x",
        "outputId": "47f12ab4-9405-4bc7-8618-bf6bcc47aa64"
      },
      "execution_count": 1,
      "outputs": [
        {
          "output_type": "execute_result",
          "data": {
            "text/plain": [
              "True"
            ]
          },
          "metadata": {},
          "execution_count": 1
        }
      ]
    },
    {
      "cell_type": "markdown",
      "source": [
        "### **None Type**\n",
        "`None` is the only value of the `NoneType`. \n",
        "+ `NoneType` can be used for missing values.\n",
        "+ If a function does not have a `return` statement, the function will automatically return `None`."
      ],
      "metadata": {
        "id": "4sb-MsJU8s6f"
      }
    },
    {
      "cell_type": "markdown",
      "source": [
        "### **Bool**\n",
        "\n",
        "Bool type has two values: `True, False` \n",
        "  + `True and False` are objects. You can use `id(True), id(False)` to check their addresses.\n",
        "  + Type of `True, False` is `bool`\n",
        "    ```\n",
        "    type(True)\n",
        "    Out: bool\n",
        "    ```\n",
        "  + Type conversion (casting)\n",
        "    + The result of a conditional statement will be implicitly converted to `bool` type.\n",
        "\n",
        "      ```\n",
        "      name = \"\"\n",
        "      if name: # empty string is evaluated as False.\n",
        "         print(name)\n",
        "      else:\n",
        "         print(\"name is empty\")\n",
        "\n",
        "      Out: name is empty       \n",
        "      ```\n",
        "\n",
        "    + Using `bool()` for expicit conversion.   \n",
        "    + Truthy and Falsey. \n",
        "      + Empty `string` is evaluated as `False` when used in a conditional statement. So it is a Falsey. Other string values are evaluated as `True`, so they are Truthy.\n",
        "        ```\n",
        "        bool(\"\")\n",
        "        Out: False\n",
        "\n",
        "        bool(\" \") # one space\n",
        "        Out: True\n",
        "        ``` \n",
        "      + For numbers like `int, float`, zero is converted to `False`, other values are Truthy.\n",
        "        ```\n",
        "        bool(0) # int \n",
        "        Out: False\n",
        "\n",
        "        bool(0.0) # float \n",
        "        Out: False\n",
        "        ``` \n",
        "      + Empty `tuple, list, set, dict` are Falsey      \n",
        "      + `None` object is Falsey.\n",
        "      + In general, dunder method `__bool__()` is called when `bool` type convertion is invoked. \n",
        "        ```\n",
        "        bool(10)\n",
        "        Out: True\n",
        "\n",
        "        # It is equivalent to:\n",
        "        (10).__bool__()\n",
        "        Out: True\n",
        "        ``` \n",
        "\n",
        "        + So for a custom class, we can implement `__bool__()` to tell Python how to convert a instance of our class to `bool` type.\n",
        "\n",
        "          ```\n",
        "          class FalseClass:\n",
        "              def __bool__(self):\n",
        "                  return False\n",
        "                  \n",
        "          tmp_ins = FalseClass()\n",
        "          bool(tmp_ins)\n",
        "          Out: False        \n",
        "          ``` \n",
        "\n",
        "\n",
        "#### *Comparison Operators*\n",
        "\n",
        "#### *Loagical Operators*"
      ],
      "metadata": {
        "id": "16YO29v2ACka"
      }
    },
    {
      "cell_type": "code",
      "source": [],
      "metadata": {
        "id": "dVtuXdW4MdAa"
      },
      "execution_count": null,
      "outputs": []
    },
    {
      "cell_type": "markdown",
      "source": [
        "### **Collection**"
      ],
      "metadata": {
        "id": "fm51hQ5OAF_y"
      }
    },
    {
      "cell_type": "markdown",
      "source": [
        "#### *Sequence Type*\n",
        "Sequence contains an **ordred** list of objects. All the sequence types implement `__getitem__()` method, which can be used to extract objects using index operator `[]`."
      ],
      "metadata": {
        "id": "Y6a6c_IaAPlv"
      }
    },
    {
      "cell_type": "markdown",
      "source": [
        "##### **String**"
      ],
      "metadata": {
        "id": "SA_miWVlAZHP"
      }
    },
    {
      "cell_type": "markdown",
      "source": [
        "##### **List**\n",
        "fixed length, **mutable**, heterogeneous, sequence.\n"
      ],
      "metadata": {
        "id": "CUiYXZYbgFOR"
      }
    },
    {
      "cell_type": "markdown",
      "source": [
        "***task:*** Create a list\n",
        "```\n",
        "# Using []\n",
        "list_1 = [1, 2, 3]\n",
        "    \n",
        "# Using list(obj) to convert an iterable object to a list.\n",
        "# need a link to the definition of iterable object.\n",
        "list_1 = list((1, 2, 3))\n",
        "list_2 = list(range(5))\n",
        "```"
      ],
      "metadata": {
        "id": "-_AxMfzxgPbF"
      }
    },
    {
      "cell_type": "markdown",
      "source": [
        "***task:*** Access elements of a list\n",
        "```\n",
        "list_1 = [1, 2, 3, 4, 5]\n",
        "# Using [] with an single index:\n",
        "    \n",
        "list_1[0] # 1 return a single object, not list\n",
        "list_1[-2] # 4 Negative index will be converted to a positive number using length of the list plus the index. So, in this example -2 will be converted to 5+ (-2) = 3\n",
        "  \n",
        "list_1[10] # IndexError: list index out of range\n",
        "```\n",
        "\n"
      ],
      "metadata": {
        "id": "pZ-r89HViVN0"
      }
    },
    {
      "cell_type": "markdown",
      "source": [
        "\n",
        "We can also use `[]` with slice object\n",
        "\n",
        "###### *Slice Object*\n",
        "    \n",
        "* In Python, a slice object is used to define a range of elements to extract from a sequence, such as a string, list, or tuple.\n",
        " \n",
        "* A slice object is created using the built-in `slice()` function, and it takes three arguments: start, stop, and step.\n",
        "\n",
        "```\n",
        "my_list = [1,3,5,7,9,11,13]\n",
        "my_slice = slice(2, 5)\n",
        "my_list_slice = my_list[my_slice]\n",
        "print(my_list_slice)\n",
        "\n",
        "# You can also use shorthand notation to create a slice object:\n",
        "my_list_slice = my_list[2:5]\n",
        "print(my_list_slice) \n",
        "```\n",
        "\n",
        "\n",
        "\n",
        "    \n"
      ],
      "metadata": {
        "id": "sH-fjgpOkBU9"
      }
    },
    {
      "cell_type": "code",
      "source": [],
      "metadata": {
        "id": "-2Hog8ftN0gV"
      },
      "execution_count": null,
      "outputs": []
    },
    {
      "cell_type": "markdown",
      "source": [
        "More Examples:\n",
        "\n",
        "```\n",
        " \n",
        "list_1[0:4:2] # [1, 3]\n",
        "# equivalent to: \n",
        "list_1[slice(0, 4, 2)]\n",
        "\n",
        "list_1[0:1] # [1] returns a list!\n",
        "\n",
        "list_1[2:4] # [3, 4]  \n",
        "# equivalent to:\n",
        "list_1[slice(2,4)]\n",
        "\n",
        "list_1[1:] # [2, 3, 4, 5]\n",
        "# equivalent to:\n",
        "list_1[slice(1, None, None)]\n",
        "\n",
        "list_1[1::2] # [2, 4]\n",
        "list_1[:3] # [1, 2, 3]\n",
        "list_1[:3:2] # [1, 3]\n",
        "\n",
        "list_1[1:-2] # <=> list_1[1:3] -> [2, 3]\n",
        "list_1[3:1] # <=> list[3:1:1] -> []\n",
        "\n",
        "## The followings are less common    \n",
        "list_1[-9::1] # <=> list(0:5:1) => [1, 2, 3, 4, 5]\n",
        "list_1[-9:-8:1] # <=> list(0:0:1) => []\n",
        "    \n",
        "list_1[10::-1] # <=> list(5:0:-1) => [5, 4, 3, 2, 1]\n",
        "list_1[10:9:-1] # <=> list(5:5:-1) => []\n",
        "list_1[-6::-1] # []\n",
        "    \n",
        "list_1[3:1:-1] # [4, 3] negative step value means move backward.\n",
        "list_1[0:4:-1] # []\n",
        "```"
      ],
      "metadata": {
        "id": "x9UKWKlHNtqe"
      }
    },
    {
      "cell_type": "markdown",
      "source": [
        "When a slice object is used to slice a sequence. Python will get effective start and stop value when a sequence is given (based on the lengh of the sequence).\n",
        "\n",
        "      ```\n",
        "      seq[i:j] \n",
        "      if i > len(seq) -> len(seq);  if j > len(seq) -> len(seq)\n",
        "      if i < 0 -> max(0, len(seq) + i);  if j < 0 -> max(0, len(seq) + j)\n",
        "  \n",
        "      if i ommited or None -> 0\n",
        "      if j ommited or None -> len(seq)\n",
        "      ```\n",
        "  \n",
        "      ```\n",
        "      seq[i:j:k] with k < 0 \n",
        "      if i >= len(seq) -> len(seq) - 1;  if j >= len(seq) -> len(seq) - 1\n",
        "      if i < 0 -> max(-1, len(seq) + i);  if j < 0 -> max(-1, len(seq) + j)\n",
        "  \n",
        "      if i ommited or None -> len(seq) - 1\n",
        "      if j ommited or None -> -1\n",
        "      ```\n"
      ],
      "metadata": {
        "id": "zqH5CRZnjgDL"
      }
    },
    {
      "cell_type": "markdown",
      "source": [
        "\n",
        "###### *Operations on one list*\n",
        "  \n",
        "***task:*** Add one element to a list\n",
        "+ Append an element\n",
        "  ```\n",
        "  list_1 = [1, 2, 3, 4, 5]\n",
        "  list_1.append(6) \n",
        "  # in-place method, return None. \n",
        "  # Append 6 to the end of the sequence \n",
        "  \n",
        "  list_1 # [1, 2, 3, 4, 5, 6]\n",
        "  ```\n",
        "+ Insert an element  \n",
        "  ```  \n",
        "  list_1 = [1, 2, 3, 4, 5]\n",
        "  list_1.insert(1, 'new') \n",
        "  # in-place method, return None. \n",
        "  # Insert a element at the given index.\n",
        "\n",
        "  list_1 # [1, 'new', 2, 3, 4, 5]\n",
        "\n",
        "  list_1.insert(10, 'new') \n",
        "  # [1, 'new', 2, 3, 4, 5, 'new']\n",
        "  # if index is outof bound on the right hand side, then append the element to the end.\n",
        "\n",
        "  list_1.insert(-1, 'aa') \n",
        "  # [1, 'new', 2, 3, 4, 5, 'aa', 'new'] \n",
        "  # negative index will be converted to a positive index as usual.\n",
        "\n",
        "  list_1.insert(-len(list_1), 'test') # ['test', 1, 'new', 2, 3, 4, 5, 'aa', 'new']\n",
        "\n",
        "  list_1 = [1, 2, 3, 4, 5]\n",
        "  list_1.insert(-6, \"test\") \n",
        "  # ['test', 1, 2, 3, 4, 5] if index is outof bound on the left hand side, then insert the element at the beginning of the list.    \n",
        "  ```\n",
        "\n",
        "\n"
      ],
      "metadata": {
        "id": "z3_nJk8YAh7r"
      }
    },
    {
      "cell_type": "code",
      "source": [],
      "metadata": {
        "id": "wzD4UV5yneho"
      },
      "execution_count": null,
      "outputs": []
    },
    {
      "cell_type": "markdown",
      "source": [
        "###### *Operations on two or more lists*"
      ],
      "metadata": {
        "id": "75zFqgvfncz3"
      }
    },
    {
      "cell_type": "markdown",
      "source": [
        "##### **Tuple**\n",
        "\n",
        "Important characteristics:\n",
        "  * Fixed length, **immutable** sequence.\n",
        "  * Elements can be of different types.\n",
        "  \n",
        "***tasks:*** Creat a tuple\n",
        "  + `tup = 1, 2, 3` # called tuple packing\n",
        "  + `tup = (1, 2, 3)`\n",
        "  + `tup = tuple([4, 0, 2])` \n",
        "    * using tuple constructor (`tuple()`) to convert any sequence type of iterator to a tuple.\n",
        "    * `tup = tuple('str') # ('s', 't', 'r')`. string type is a sequence type.\n",
        "    \n",
        "  + `tup = (5, )` you need this format to create a tuple with single element.\n",
        "  + each member of the tuple could be of different types. `(1, 4.5, 'hello')`  "
      ],
      "metadata": {
        "id": "tbBKtCY1D6uH"
      }
    },
    {
      "cell_type": "markdown",
      "source": [
        "***tasks:*** Access one or more elements in a tuple\n",
        "\n",
        "Using `[]`, Python will call `__getitem__()` method of the object.\n",
        "\n",
        "  ```{}\n",
        "  tup = tuple('hello')\n",
        "    \n",
        "  # Using [] with a single index. index starts from 0 not 1. \n",
        "  tup[1] # 'e'\n",
        "  tup[10] # IndexError: tuple index out of range\n",
        "  tup[-1] # 'o'. Negative index will be converted to a positive number using lenght of the tuple plus the index. So, in this example -1 will be converted to 5+ (-1) = 4\n",
        "    \n",
        "  tup[2, 4] # TypeError: tuple indices must be integers or slices, not tuple\n",
        "    \n",
        "  # Using slice object\n",
        "  tup[slice(start = 0, stop = 3)] # ('h', 'e', 'l')\n",
        "    \n",
        "  tup[slice(start = 0, stop = 5, step = 2)] # ('h', 'l', 'o')\n",
        "    \n",
        "  tup[0:5:2] # same as above ('h', 'l', 'o')\n",
        "  ```"
      ],
      "metadata": {
        "id": "Ir5lEqihEBCQ"
      }
    },
    {
      "cell_type": "code",
      "source": [],
      "metadata": {
        "id": "wMOX_9UHTFjb"
      },
      "execution_count": null,
      "outputs": []
    },
    {
      "cell_type": "markdown",
      "source": [
        "You can not modify a tuple in the way of adding, reassigning or deleting a element of a tuple, as it is **immutable**.\n",
        "\n",
        "***know***\n",
        "```\n",
        "tup[1] = 't' # TypeError: 'tuple' object does not support item assignment\n",
        "del tup[1] # TypeError: 'tuple' object doesn't support item deletion\n",
        "```\n",
        "  \n",
        "**But**, if one element of a tuple is mutable, you can modify the element in-place.\n",
        "      \n",
        "```\n",
        "tup = (10, [3,4,5], 'end')\n",
        "tup[1].append(6)\n",
        "tup # (10, [3, 4, 5, 6], 'end')\n",
        "```"
      ],
      "metadata": {
        "id": "4tbtqewoEYUi"
      }
    },
    {
      "cell_type": "code",
      "source": [],
      "metadata": {
        "id": "U_1pr6VBTHYh"
      },
      "execution_count": null,
      "outputs": []
    },
    {
      "cell_type": "markdown",
      "source": [
        "###### *Operations on one or more tuples*\n",
        "\n",
        "***task:*** Length of the tuple\n",
        "```\n",
        "tup = (1,2,3)\n",
        "len(tup) # 3 or tup.__len__()\n",
        "```\n",
        "\n",
        "***task:*** Check whether an object is in the given tuple\n",
        "```\n",
        "## Membership or contains\n",
        "tup = (1, 2, 3)\n",
        "1 in tup # True\n",
        "2 not in tup # False\n",
        "```"
      ],
      "metadata": {
        "id": "KyJlfDgXE3_R"
      }
    },
    {
      "cell_type": "code",
      "source": [],
      "metadata": {
        "id": "5OwI1jCATJRE"
      },
      "execution_count": null,
      "outputs": []
    },
    {
      "cell_type": "markdown",
      "source": [
        "***task:*** Find the index value of a given object in the tuple (or subset of the tuple).\n",
        "```\n",
        "## Using index() method.\n",
        "## s.index(x[, i[, j]]) index of the first \n",
        "## occurrence of x in tuple s (at or after index i and before index j)\n",
        "\n",
        "tup = (4, 5, 6, 5, 7, 8, 7)\n",
        "tup.index(5) # 1\n",
        "tup.index(20) # ValueError: tuple.index(x): x not in tuple\n",
        "tup.index(5, 2) # 3\n",
        "tup.index(7, , 5) # SyntaxError: invalid syntax\n",
        "```  "
      ],
      "metadata": {
        "id": "2jQXwLDBFAkM"
      }
    },
    {
      "cell_type": "code",
      "source": [
        "tup = (4, 5, 6, 5, 7, 8, 7)\n",
        "tup.index(5)"
      ],
      "metadata": {
        "colab": {
          "base_uri": "https://localhost:8080/"
        },
        "id": "_6_UNhXuGg1Z",
        "outputId": "cf417275-dc51-45a7-9ab6-29d0fe0c74a7"
      },
      "execution_count": 5,
      "outputs": [
        {
          "output_type": "execute_result",
          "data": {
            "text/plain": [
              "1"
            ]
          },
          "metadata": {},
          "execution_count": 5
        }
      ]
    },
    {
      "cell_type": "markdown",
      "source": [
        "***task:*** Count frequency of elements in a tuple\n",
        "```\n",
        "## Using count method\n",
        "a = (1, 2, 2, 2, 3, 4, 2)\n",
        "a.count(2) # 4\n",
        "a.count(20) # 0\n",
        "```\n",
        "    "
      ],
      "metadata": {
        "id": "m9TzoPplKEdC"
      }
    },
    {
      "cell_type": "code",
      "source": [],
      "metadata": {
        "id": "tXRrBz97TNaD"
      },
      "execution_count": null,
      "outputs": []
    },
    {
      "cell_type": "markdown",
      "source": [
        "***tasks:*** Replicate a tuple multiple times\n",
        "```\n",
        "## Using * operator\n",
        "('hello', 'world') * 3 # ('hello', 'world', 'hello', 'world', 'hello', 'world')\n",
        "\n",
        "\n",
        "```\n",
        "\n",
        "Note that the objects themselves are not copied, only the references to them.\n",
        "```\n",
        "tup = ([1,2], [3,4]) \n",
        "tup_2 = tup * 2\n",
        "print(tup_2) # ([1, 2], [3, 4], [1, 2], [3, 4])\n",
        "\n",
        "tup[0].append(10)\n",
        "print(tup_2) # ([1, 2, 10], [3, 4], [1, 2, 10], [3, 4]) \n",
        "  \n",
        "tup_2[0].append(15)\n",
        "print(tup_2) \n",
        "# ([1, 2, 10, 15], [3, 4], [1, 2, 10, 15], [3, 4]) -> the first and the third element share same memory address.\n",
        "  \n",
        "print(tup) # ([1, 2, 10, 15], [3, 4])\n",
        "```\n",
        "  \n",
        "    "
      ],
      "metadata": {
        "id": "I58UE_n5K7nI"
      }
    },
    {
      "cell_type": "code",
      "source": [
        "tup = ([1,2], [3,4]) \n",
        "tup_2 = tup * 2\n",
        "print(tup_2) # ([1, 2], [3, 4], [1, 2], [3, 4])\n",
        "\n",
        "tup[0].append(10)\n",
        "print(tup_2) # ([1, 2, 10], [3, 4], [1, 2, 10], [3, 4]) \n",
        "  \n",
        "tup_2[0].append(15)\n",
        "print(tup_2) \n",
        "# ([1, 2, 10, 15], [3, 4], [1, 2, 10, 15], [3, 4]) -> the first and the third element share same memory address.\n",
        "  \n",
        "print(tup) # ([1, 2, 10, 15], [3, 4])"
      ],
      "metadata": {
        "colab": {
          "base_uri": "https://localhost:8080/"
        },
        "id": "YwglCiaWMFt0",
        "outputId": "dea4d369-5200-42df-9741-1e5db942b97d"
      },
      "execution_count": 7,
      "outputs": [
        {
          "output_type": "stream",
          "name": "stdout",
          "text": [
            "([1, 2], [3, 4], [1, 2], [3, 4])\n",
            "([1, 2, 10], [3, 4], [1, 2, 10], [3, 4])\n",
            "([1, 2, 10, 15], [3, 4], [1, 2, 10, 15], [3, 4])\n",
            "([1, 2, 10, 15], [3, 4])\n"
          ]
        }
      ]
    },
    {
      "cell_type": "markdown",
      "source": [
        "***tasks:*** Concatenating two or more tuples using \n",
        "```\n",
        "## Using + operator\n",
        "(1, 2, 3) + (4, 5) # (1, 2, 3, 4, 5)\n",
        "``` "
      ],
      "metadata": {
        "id": "uBR97XmQMn3z"
      }
    },
    {
      "cell_type": "code",
      "source": [],
      "metadata": {
        "id": "bbzp4v5sTTHJ"
      },
      "execution_count": null,
      "outputs": []
    },
    {
      "cell_type": "markdown",
      "source": [
        "###### *Tuple Unpacking*   \n",
        "  \n",
        "***task:*** Multiple assignments  \n",
        "```\n",
        "## assign a tuple to several variables\n",
        "tup = (1,2,3)\n",
        "a, b, c = tup # equivalent to a,b,c = 1,2,3\n",
        "a #1\n",
        "    \n",
        "d, e = tup # ValueError: too many values to unpack (expected 2)\n",
        "    \n",
        "tup = (1, 2, (3,4))\n",
        "a,b, (c, d) = tup\n",
        "d #4\n",
        "```\n",
        "\n",
        "***task:*** Swap values of two variable   \n",
        "```\n",
        "## swap values of two variable using upacking\n",
        "a, b = 1, 2\n",
        "b, a = a, b # righ hand evaluaed first, than assign to the left hand.\n",
        "a, b # (2, 1)\n",
        "```  \n",
        " \n",
        "  \n"
      ],
      "metadata": {
        "id": "k-vFhRnxAlFh"
      }
    },
    {
      "cell_type": "code",
      "source": [],
      "metadata": {
        "id": "Butur297Us8R"
      },
      "execution_count": null,
      "outputs": []
    },
    {
      "cell_type": "markdown",
      "source": [
        "\n",
        "Tuple unpakcing when * operator is on the left hand of `=`\n",
        "```\n",
        "values = 1,2,3,4,5\n",
        "a, b, *rest = values\n",
        "a, b # (1, 2)\n",
        "rest # [3, 4, 5] it is a list not a tuple!!\n",
        "    \n",
        "a, *rest, b = values\n",
        "a #1\n",
        "b #5\n",
        "rest # [2, 3, 4]\n",
        "```\n",
        "  \n",
        "Tuple unpakcing when * operator is on the right hand of `=`  \n",
        "```\n",
        "tup = (1,2)\n",
        "tup_s = (*tup)\n",
        "# SyntaxError: can't use starred expression here\n",
        "# but we can use the following\n",
        "tup_s = [*tup]\n",
        "tup_s # [1, 2]\n",
        "# or\n",
        "tup_s = (*tup, *tup)\n",
        "tup_s # (1, 2, 1, 2) \n",
        "```    \n",
        "  \n",
        "  "
      ],
      "metadata": {
        "id": "1wlRkOfCUtWU"
      }
    },
    {
      "cell_type": "code",
      "source": [],
      "metadata": {
        "id": "OmO5xSJSWOAS"
      },
      "execution_count": null,
      "outputs": []
    },
    {
      "cell_type": "markdown",
      "source": [
        "#### *Mapping Type (Association Array)*\n",
        "A collection of keys and associated values. (order doesn't matter)"
      ],
      "metadata": {
        "id": "t6A5z8FOAyQn"
      }
    },
    {
      "cell_type": "markdown",
      "source": [
        "##### **Dictionary**\n",
        "\n",
        "dfasdfsadf"
      ],
      "metadata": {
        "id": "cwjFJFJSBHsd"
      }
    },
    {
      "cell_type": "markdown",
      "source": [
        "##### **Set**"
      ],
      "metadata": {
        "id": "zxehhBMPBMlI"
      }
    },
    {
      "cell_type": "markdown",
      "source": [
        "## *Flow Control*"
      ],
      "metadata": {
        "id": "vkG1hWOZBU4s"
      }
    },
    {
      "cell_type": "markdown",
      "source": [
        "\n",
        "\n",
        "### **If-Elif-Else Statements**\n",
        "In Python, the if (elif, else) statements are used for conditional execution of code. It is used to make decisions based on the truth value of a condition.\n",
        "\n",
        "```\n",
        "if condition:\n",
        "    # code to be executed if condition is True\n",
        "elif condition2:\n",
        "    # code to be executed if condition2 is True and condition is False\n",
        "else:\n",
        "    # code to be executed if both condition and condition2 are False\n",
        "\n",
        "```\n",
        "\n",
        "Example:\n",
        "```\n",
        "x = -2\n",
        "\n",
        "if x > 0:\n",
        "    print(\"x is positive\")\n",
        "elif x < 0:\n",
        "    print(\"x is negative\")\n",
        "else:\n",
        "    print(\"x is zero\")\n",
        "\n",
        "```\n",
        "\n"
      ],
      "metadata": {
        "id": "OLRGIKzlF0-p"
      }
    },
    {
      "cell_type": "code",
      "source": [
        "x = -2\n",
        "\n",
        "if x > 0:\n",
        "    print(\"x is positive\")\n",
        "elif x < 0:\n",
        "    print(\"x is negative\")\n",
        "else:\n",
        "    print(\"x is zero\")"
      ],
      "metadata": {
        "colab": {
          "base_uri": "https://localhost:8080/"
        },
        "id": "wO8OKErdGy47",
        "outputId": "54c641b7-e0fe-4a81-fef2-97a8620719d0"
      },
      "execution_count": 1,
      "outputs": [
        {
          "output_type": "stream",
          "name": "stdout",
          "text": [
            "x is negative\n"
          ]
        }
      ]
    },
    {
      "cell_type": "markdown",
      "source": [
        "### **For Loop**\n",
        "\n",
        "#### *Break and Continue*\n",
        "\n",
        "#### *Finally Block*\n",
        "\n",
        "#### *Iterable and Iterator in Python*"
      ],
      "metadata": {
        "id": "ISYGYLqINCXW"
      }
    },
    {
      "cell_type": "code",
      "source": [],
      "metadata": {
        "id": "1MpkaJr3ODDF"
      },
      "execution_count": null,
      "outputs": []
    },
    {
      "cell_type": "markdown",
      "source": [
        "### While Loop\n"
      ],
      "metadata": {
        "id": "amKYkrzWCoEZ"
      }
    },
    {
      "cell_type": "code",
      "source": [],
      "metadata": {
        "id": "AsCnIQpbOEKt"
      },
      "execution_count": null,
      "outputs": []
    },
    {
      "cell_type": "markdown",
      "source": [
        "## *Functions*"
      ],
      "metadata": {
        "id": "1rrttn1qOfmR"
      }
    },
    {
      "cell_type": "markdown",
      "source": [
        "### **Define a Function**\n",
        "\n",
        "\n",
        "#### *Parameter vs Argument*\n",
        "\n",
        "#### *Matching Argments to Parameters*\n",
        "\n",
        "#### *Functions are first-class Object*\n",
        "\n"
      ],
      "metadata": {
        "id": "B6eH_4U5OlsZ"
      }
    },
    {
      "cell_type": "markdown",
      "source": [
        "## *Comprehensions in Python*\n"
      ],
      "metadata": {
        "id": "M3Zx2fSYPxBF"
      }
    },
    {
      "cell_type": "markdown",
      "source": [
        "### **List Comprehension**"
      ],
      "metadata": {
        "id": "izMq5FR1P-Cd"
      }
    },
    {
      "cell_type": "code",
      "source": [],
      "metadata": {
        "id": "va5DKjtQRFs0"
      },
      "execution_count": null,
      "outputs": []
    },
    {
      "cell_type": "markdown",
      "source": [
        "### **Dictionary Comprehension**"
      ],
      "metadata": {
        "id": "2NzFXUoHQB6P"
      }
    },
    {
      "cell_type": "code",
      "source": [],
      "metadata": {
        "id": "5beVuZcaRFOK"
      },
      "execution_count": null,
      "outputs": []
    },
    {
      "cell_type": "markdown",
      "source": [
        "### **Generator Expression**"
      ],
      "metadata": {
        "id": "TJvmTwg7QM69"
      }
    },
    {
      "cell_type": "code",
      "source": [],
      "metadata": {
        "id": "1xeak6npREg-"
      },
      "execution_count": null,
      "outputs": []
    },
    {
      "cell_type": "markdown",
      "source": [
        "## *Importing Modules*"
      ],
      "metadata": {
        "id": "x_GNKFiQRGYa"
      }
    },
    {
      "cell_type": "code",
      "source": [],
      "metadata": {
        "id": "bnmMOipiRRr-"
      },
      "execution_count": null,
      "outputs": []
    }
  ]
}