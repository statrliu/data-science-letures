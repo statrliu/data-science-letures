{
  "nbformat": 4,
  "nbformat_minor": 0,
  "metadata": {
    "colab": {
      "provenance": [],
      "authorship_tag": "ABX9TyPdmG/gsIW02ZByA62bG0Qw",
      "include_colab_link": true
    },
    "kernelspec": {
      "name": "python3",
      "display_name": "Python 3"
    },
    "language_info": {
      "name": "python"
    }
  },
  "cells": [
    {
      "cell_type": "markdown",
      "metadata": {
        "id": "view-in-github",
        "colab_type": "text"
      },
      "source": [
        "<a href=\"https://colab.research.google.com/github/statrliu/data-science-letures/blob/main/Introduction_to_Python_for_Data_Science_1.ipynb\" target=\"_parent\"><img src=\"https://colab.research.google.com/assets/colab-badge.svg\" alt=\"Open In Colab\"/></a>"
      ]
    },
    {
      "cell_type": "markdown",
      "source": [
        "#**Full Cycle of a Data Science Project**\n",
        "  1. Defining the Problem to Solve \n",
        "  2. Collecting Data\n",
        "  3. Manipulating Data\n",
        "  4. Building, Evaluating, and Selecting Models\n",
        "  5. Delivering Results "
      ],
      "metadata": {
        "id": "6-6bsnKJKvFU"
      }
    },
    {
      "cell_type": "markdown",
      "source": [
        "# **Overview of Data Manipulation**\n",
        "+ Cleaning the data\n",
        "  + Investigating errors/inconsistency/outliers\n",
        "  + Investigating missing values \n",
        "+ Formating and combining multiple data sets\n",
        "+ Generating new features\n",
        "\n",
        "\n"
      ],
      "metadata": {
        "id": "RKTVSg0BYzgz"
      }
    },
    {
      "cell_type": "markdown",
      "source": [
        "# **Python for Data Science**\n"
      ],
      "metadata": {
        "id": "OHh3T4vlb5AP"
      }
    },
    {
      "cell_type": "code",
      "source": [
        "import pandas as pd"
      ],
      "metadata": {
        "id": "_WVIbH3f0HdU"
      },
      "execution_count": 1,
      "outputs": []
    },
    {
      "cell_type": "code",
      "source": [
        "pd.Series()"
      ],
      "metadata": {
        "id": "XoJcSCZK1JcX"
      },
      "execution_count": null,
      "outputs": []
    }
  ]
}