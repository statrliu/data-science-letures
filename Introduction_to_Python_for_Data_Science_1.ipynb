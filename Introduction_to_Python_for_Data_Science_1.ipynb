{
  "nbformat": 4,
  "nbformat_minor": 0,
  "metadata": {
    "colab": {
      "provenance": [],
      "toc_visible": true,
      "authorship_tag": "ABX9TyPFLridOgkH9Q/8VD0kGRu3",
      "include_colab_link": true
    },
    "kernelspec": {
      "name": "python3",
      "display_name": "Python 3"
    },
    "language_info": {
      "name": "python"
    }
  },
  "cells": [
    {
      "cell_type": "markdown",
      "metadata": {
        "id": "view-in-github",
        "colab_type": "text"
      },
      "source": [
        "<a href=\"https://colab.research.google.com/github/statrliu/data-science-letures/blob/main/Introduction_to_Python_for_Data_Science_1.ipynb\" target=\"_parent\"><img src=\"https://colab.research.google.com/assets/colab-badge.svg\" alt=\"Open In Colab\"/></a>"
      ]
    },
    {
      "cell_type": "markdown",
      "source": [
        "#**Full Cycle of a Data Science Project**\n",
        "  1. Defining the Problem to Solve \n",
        "  2. Collecting Data\n",
        "  3. Manipulating Data\n",
        "  4. Building, Evaluating, and Selecting Models\n",
        "  5. Delivering Results "
      ],
      "metadata": {
        "id": "6-6bsnKJKvFU"
      }
    },
    {
      "cell_type": "markdown",
      "source": [
        "# **Overview of Data Manipulation**\n",
        "+ Cleaning the data\n",
        "  + Investigating errors/inconsistency/outliers\n",
        "  + Investigating missing values \n",
        "+ Formating and combining multiple data sets\n",
        "+ Generating new features\n",
        "\n",
        "\n"
      ],
      "metadata": {
        "id": "RKTVSg0BYzgz"
      }
    },
    {
      "cell_type": "markdown",
      "source": [
        "# **Python for Data Science**\n"
      ],
      "metadata": {
        "id": "OHh3T4vlb5AP"
      }
    },
    {
      "cell_type": "code",
      "source": [
        "# Check Python version\n",
        "import sys\n",
        "sys.version"
      ],
      "metadata": {
        "id": "_WVIbH3f0HdU"
      },
      "execution_count": null,
      "outputs": []
    },
    {
      "cell_type": "markdown",
      "source": [
        "## _Object and Type (Class)_\n",
        "\n",
        "**Object:** An object can hold data (attributes) and perform operations (methods). For example:\n",
        "+ An integer object can hold integer values and support arithmetic operations such as addition and subtraction. \n",
        "+ A string object can hold text values and support operations such as concatenation and substring extraction.\n",
        "\n",
        "**Type/Class:** A Python type is a classification of objects based on their characteristics and the operations they support. \n",
        "\n",
        "***In Python, almost everything is an object.***\n",
        "\n",
        "***task***: Find the type of an object\n",
        "```\n",
        "#using build in type() function\n",
        "type(10)\n",
        "type(1.5)\n",
        "```\n",
        "\n",
        "***task***: List an type/object's attributes (both data and method).\n",
        "```\n",
        "dir(10)\n",
        "dir(int)\n",
        "```\n",
        "\n",
        "***task***: Access an object's data/method using `.` notation \n",
        "```\n",
        "(10).real\n",
        "(10).__str__() # same as str(10)\n",
        "```\n",
        "\n",
        "\n",
        "\n"
      ],
      "metadata": {
        "id": "LfJ2OaH0joa4"
      }
    },
    {
      "cell_type": "code",
      "source": [
        "\n"
      ],
      "metadata": {
        "id": "6WOXFN4hrYM4"
      },
      "execution_count": null,
      "outputs": []
    },
    {
      "cell_type": "markdown",
      "source": [
        "**Variables (Object reference)**\n",
        "\n",
        "In Python, an object reference is a value that points to the memory location of an object. \n",
        "+ Every object in Python has a unique memory address, which can be accessed using the built-in id() function. \n",
        "+ An object reference is essentially a pointer to this memory location.\n",
        "\n",
        "If you create a variable `x` and assign it a value of 25, Python creates an integer object with a value of 25 and assigns a reference to that object to the variable `x`. You can then perform operations on that object, such as adding `x` to another integer.\n",
        "\n",
        "| Variable | Value   | Type     | Memory Address |\n",
        "|:--------:|:-------:|:--------:|:--------------|\n",
        "| x        | 25      | Integer  | 0x00123        |\n",
        "| y        | 3.14    | Float    | 0x00456        |\n",
        "| z        | \"hello\" | String   | 0x009AB        |\n",
        "| arr      | [1,2,3] | List     | 0x00DEF        |\n",
        "| dict     | {prop1: \"value1\", prop2: 42} | Object | 0x0112F        |\n",
        "\n",
        "\n",
        "\n",
        "\n"
      ],
      "metadata": {
        "id": "olSwFzU2Lz0k"
      }
    },
    {
      "cell_type": "markdown",
      "source": [
        "***task:*** Find the unique id (memory address) for an object.\n",
        "```\n",
        "# Using build in id() function\n",
        "id(20)\n",
        "id(\"data\")\n",
        "```\n",
        "\n",
        "**Assignment Statement:** \n",
        "\n",
        "```\n",
        "small_int = 10 # snake case\n",
        "largeFloat = 1234567.89 # camel case\n",
        "HighVolumn = 6789 # pascal case\n",
        "```\n",
        "\n",
        "**Naming rules:**\n",
        "\n",
        "+ A variable name must start with a letter or the underscore character\n",
        "\n",
        "+ A variable name can only contain alpha-numeric characters and underscores `(A-z, 0-9, and _ )`\n",
        "\n",
        "+ Variable names are case-sensitive (`sd` and `SD` are different )\n",
        "\n",
        "+ A name cannot coincide with one of Python’s reserved words (keywords).\n",
        "```  \n",
        "False       class       finally     is          return\n",
        "None        continue    for         lambda      try\n",
        "True        def         from        nonlocal    while\n",
        "and         del         global      not         with\n",
        "as          elif        if          or          yield\n",
        "assert      else        import      pass     \n",
        "break       except      in          raise\n",
        "```\n",
        "\n",
        "+ Using meaningfull names (`counter` is better than `c`)\n"
      ],
      "metadata": {
        "id": "SLBFWyEsKZ2s"
      }
    },
    {
      "cell_type": "code",
      "source": [],
      "metadata": {
        "id": "mjUv0ZQBL2JD"
      },
      "execution_count": null,
      "outputs": []
    },
    {
      "cell_type": "markdown",
      "source": [
        "## *Mutable and Immutable Objects*\n",
        "\n",
        "In Python, objects are either immutable or mutable. \n",
        "\n",
        "**Imutable Object**\n",
        "\n",
        "An object is immutable if its value cannot be changed after it is created.\n",
        "\n",
        "+ If you want to change the value of an immutable object, you must create a new object with the desired value. \n",
        "+ Examples of immutable objects in Python include numbers (`int`, `float`), strings, and tuples.\n",
        "\n",
        "**Mutable Object**\n",
        "\n",
        "An object is mutable if its value can be changed after it is created.\n",
        "\n",
        "+ Changes to mutable objects affect the original object, rather than creating a new object. \n",
        "+ Examples of mutable objects in Python include lists,dictionaries, and sets.\n",
        "\n",
        "\n",
        "\n"
      ],
      "metadata": {
        "id": "e6LbMjlnPA2H"
      }
    },
    {
      "cell_type": "markdown",
      "source": [
        "## _Fundamental Data Types_"
      ],
      "metadata": {
        "id": "U023ZqZ2sM2b"
      }
    },
    {
      "cell_type": "markdown",
      "source": [
        "### **Integer and Float**\n",
        "Python `int` type is used for integer numbers (positive and negative)\n",
        "\n",
        "Python `float` type (floating-point) represents a real number with a fractional part\n",
        "\n",
        "```\n",
        "# integers\n",
        "type(3)\n",
        "type(100_000)\n",
        "\n",
        "# real numbers\n",
        "type(3.0) # A float with a decimal point\n",
        "type(2.0e-4) # # A float with an exponent\n",
        "```\n",
        "\n",
        "\n"
      ],
      "metadata": {
        "id": "x7gpaQa__-0C"
      }
    },
    {
      "cell_type": "code",
      "source": [],
      "metadata": {
        "id": "9rCWYC4Lilv4"
      },
      "execution_count": null,
      "outputs": []
    },
    {
      "cell_type": "markdown",
      "source": [
        "***task:*** Type conversion\n",
        "```\n",
        "# int to float\n",
        "float(3_000)\n",
        "\n",
        "# float to int. \n",
        "int(3.1415) # truncation, cut the fraction part.\n",
        "int(-3.1415)\n",
        "```\n",
        "\n",
        "A `float` object may take less memory than a `int` object\n",
        "\n",
        "```\n",
        "import sys\n",
        "\n",
        "print(sys.getsizeof(1000_000_000)) # memory size in byte\n",
        "print(sys.getsizeof(1e9)) # memory size in byte\n",
        "```\n"
      ],
      "metadata": {
        "id": "IzEcWs5BwWn4"
      }
    },
    {
      "cell_type": "code",
      "source": [],
      "metadata": {
        "id": "M8HCHaP3wl6H"
      },
      "execution_count": null,
      "outputs": []
    },
    {
      "cell_type": "markdown",
      "source": [
        "Floating numbers in computer are just approximations.\n",
        "(https://docs.python.org/3/tutorial/floatingpoint.html)\n",
        "\n",
        "```\n",
        "0.1 + 0.1 + 0.1 == 0.3\n",
        "format(0.1, '.20f')\n",
        "``` \n",
        "\n",
        "When dealing with float numbers, don't use `==` for equality comparision. Use `isclose` funtion in the `math` module. \n",
        "```\n",
        "import math\n",
        "math.isclose(0.1 + 0.1 + 0.1, 0.3, rel_tol = 0.001, abs_tol = 0.001)\n",
        "```"
      ],
      "metadata": {
        "id": "9XpthuKUimJt"
      }
    },
    {
      "cell_type": "code",
      "source": [],
      "metadata": {
        "id": "WaO-vuUyMa-x"
      },
      "execution_count": null,
      "outputs": []
    },
    {
      "cell_type": "markdown",
      "source": [
        "#### *Arithmetic Operators*\n",
        "```\n",
        "# +, - as unary operators\n",
        "+5\n",
        "-12.5\n",
        "\n",
        "# +, - as binary operators\n",
        "3 + 5\n",
        "type(3 + 5.0) # float, Python make implicit conversion to float.\n",
        "23 - 30\n",
        "\n",
        "# multipication and exponentiation\n",
        "5 * 3 \n",
        "type(5*3)\n",
        "type(5*3.0)\n",
        "\n",
        "5 ** 3 \n",
        "type(5**3) \n",
        "5.5 ** 3.5\n",
        "\n",
        "# True division '/' always return a float\n",
        "4/2\n",
        "type(4/2)\n",
        "```\n",
        "\n",
        "\n",
        "\n",
        "\n"
      ],
      "metadata": {
        "id": "Bo5nS9dFhQYH"
      }
    },
    {
      "cell_type": "code",
      "source": [],
      "metadata": {
        "id": "1JB2C3DTREDE"
      },
      "execution_count": null,
      "outputs": []
    },
    {
      "cell_type": "markdown",
      "source": [
        "**Floor Division \"//\":** \n",
        "\n",
        "Divides one number by another and returns the largest \"integer\" value that is less than or equal to the result of the true division.\n",
        "```\n",
        "# Returns a int object\n",
        "print(7//3)\n",
        "print(type(7//3))\n",
        "\n",
        "print(7/-3)\n",
        "print(7//-3)\n",
        "\n",
        "# Returns a float object\n",
        "print(8.5//2.1)\n",
        "print(type(8.5//2.1))\n",
        "\n",
        "\n",
        "```"
      ],
      "metadata": {
        "id": "dibfOc_uRxXj"
      }
    },
    {
      "cell_type": "code",
      "source": [],
      "metadata": {
        "id": "f9kg8V9yUIE0"
      },
      "execution_count": null,
      "outputs": []
    },
    {
      "cell_type": "markdown",
      "source": [
        "**Modulo \"%\":**\n",
        "\n",
        "Returns the remainder of dividing one number by another.\n",
        "\n",
        "Python uses the following equation to find the remainder (`m % n`):\n",
        "```\n",
        "m = n * (m//n) + m % n\n",
        "```\n",
        "\n",
        "```\n",
        "print(17//3)\n",
        "print(17%3)\n",
        "print(3 * (17//3) + (17%3) )\n",
        "\n",
        "print(-17//3)\n",
        "print(-17%3)\n",
        "print(3 * (-17//3) + (-17%3) )\n",
        "\n",
        "print(17//-3)\n",
        "print(17%-3)\n",
        "print(-3 * (17//-3) + (17%-3) )\n",
        "\n",
        "print(25.5//3.6)\n",
        "print(25.5%3.6)\n",
        "print(3.6 * (25.5//3.6) + (25.5%3.6))\n",
        "```"
      ],
      "metadata": {
        "id": "ZZL8xPa9UIoq"
      }
    },
    {
      "cell_type": "markdown",
      "source": [
        "**Round() function**\n",
        "\n",
        "The `round()` function in Python is used to round a floating-point number to a specified number of decimal places or to the nearest integer. The function takes two arguments: \n",
        "+ the number to be rounded, \n",
        "+ an optional second argument that specifies the number of decimal places to round to.\n",
        "\n",
        "```\n",
        "print(round(1233.1415))\n",
        "print(round(1233.1415, 2))\n",
        "print(round(1233.1415, -1))\n",
        "```\n",
        "\n",
        "**Note**\n",
        "\n",
        "The `round()` function uses a rounding rule called \"round half to even\", which means that if the digit to be rounded is exactly halfway between two possible values, the function rounds to the nearest even number. \n",
        "```\n",
        "print(round(2.5))\n",
        "print(round(3.5))\n",
        "\n",
        "print(round(12.45, 1))\n",
        "\n",
        "```"
      ],
      "metadata": {
        "id": "O7UrzQOSw-Io"
      }
    },
    {
      "cell_type": "code",
      "source": [],
      "metadata": {
        "id": "MY1lsw1QxXFr"
      },
      "execution_count": null,
      "outputs": []
    },
    {
      "cell_type": "markdown",
      "source": [
        "#### *Augmented Assignment Operators*\n",
        "\n",
        "In Python, augmented assignment operators are shorthand operators that combine an arithmetic or bitwise operation with an assignment operation. \n",
        "\n",
        "They allow you to perform an operation and assign the result to a variable in a single step.\n",
        "```\n",
        "x = 3\n",
        "x += 2    # equivalent to x = x + 2\n",
        "print(x)  # Output: 5\n",
        "```\n",
        "\n"
      ],
      "metadata": {
        "id": "gSleg3o1REfN"
      }
    },
    {
      "cell_type": "code",
      "source": [],
      "metadata": {
        "id": "naxVXReuRGkL"
      },
      "execution_count": null,
      "outputs": []
    },
    {
      "cell_type": "markdown",
      "source": [
        "### **None Type**\n",
        "`None` is the only value of the `NoneType`. \n",
        "+ `NoneType` can be used for missing values.\n",
        "+ If a function does not have a `return` statement, the function will automatically return `None`."
      ],
      "metadata": {
        "id": "4sb-MsJU8s6f"
      }
    },
    {
      "cell_type": "code",
      "source": [],
      "metadata": {
        "id": "PaEW4PJRVDOz"
      },
      "execution_count": null,
      "outputs": []
    },
    {
      "cell_type": "markdown",
      "source": [
        "### **Bool**\n",
        "\n",
        "Bool type has two values: `True, False` \n",
        "  + `True and False` are objects. You can use `id(True), id(False)` to check their addresses.\n",
        "  + Type of `True, False` is `bool`\n",
        "    ```\n",
        "    type(True)\n",
        "    # Output: bool\n",
        "    ```  \n",
        "  + Type conversion (casting)\n",
        "    + The result of a conditional statement will be implicitly converted to `bool` type.\n",
        "\n",
        "      ```\n",
        "      name = \"\"\n",
        "      if name: # empty string is evaluated as False.\n",
        "         print(name)\n",
        "      else:\n",
        "         print(\"name is empty\")\n",
        "\n",
        "      # Output: name is empty       \n",
        "      ```\n",
        "\n",
        "    + Using `bool()` for expicit conversion.   \n",
        "    + Truthy and Falsey. \n",
        "      + Empty `string` is evaluated as `False` when used in a conditional statement. So it is a Falsey. Other string values are evaluated as `True`, so they are Truthy.\n",
        "        ```\n",
        "        bool(\"\")\n",
        "        # Output: False\n",
        "\n",
        "        bool(\" \") # one space\n",
        "        # Output: True\n",
        "        ``` \n",
        "      + For numbers like `int, float`, zero is converted to `False`, other values are Truthy.\n",
        "        ```\n",
        "        bool(0) # int \n",
        "        # Output: False\n",
        "\n",
        "        bool(0.0) # float \n",
        "        # Output: False\n",
        "        ``` \n",
        "      + Empty `tuple, list, set, dict` are Falsey      \n",
        "      + `None` object is Falsey.\n",
        "      + In general, dunder method `__bool__()` is called when `bool` type convertion is invoked. \n",
        "        ```\n",
        "        bool(10)\n",
        "        # Output: True\n",
        "\n",
        "        # It is equivalent to:\n",
        "        (10).__bool__()\n",
        "        # Output: True\n",
        "        ``` \n",
        "\n",
        "        + So for a custom class, we can implement `__bool__()` to tell Python how to convert a instance of our class to `bool` type.\n",
        "\n",
        "          ```\n",
        "          class FalseClass:\n",
        "              def __bool__(self):\n",
        "                  return False\n",
        "                  \n",
        "          tmp_ins = FalseClass()\n",
        "          bool(tmp_ins)\n",
        "          # Output: False        \n",
        "          ``` \n",
        "\n",
        "\n"
      ],
      "metadata": {
        "id": "16YO29v2ACka"
      }
    },
    {
      "cell_type": "code",
      "source": [],
      "metadata": {
        "id": "-wghDPIAVcDi"
      },
      "execution_count": null,
      "outputs": []
    },
    {
      "cell_type": "markdown",
      "source": [
        "#### *Comparison Operators*\n",
        "In Python, comparison operators are used to compare two values and return a Boolean value (`True` or `False`) based on the comparison result. \n",
        "\n",
        "+ `==` (equal to): returns `True` if the values on both sides of the operator are equal.\n",
        "+ `!=` (not equal to): returns `True` if the values on either side of the operator are not equal.\n",
        "+ `<` (less than): returns `True` if the value on the left side of the operator is less than the value on the right side.\n",
        "+ `>` (greater than): returns `True` if the value on the left side of the operator is greater than the value on the right side.\n",
        "+ `<=` (less than or equal to): returns `True` if the value on the left side of the operator is less than or equal to the value on the right side.\n",
        "+ `>=` (greater than or equal to): returns `True` if the value on the left side of the operator is greater than or equal to the value on the right side.\n",
        "\n",
        "```\n",
        "x = 5\n",
        "y = 10\n",
        "\n",
        "# Check if x is less than y\n",
        "print(x < y)  # Output: True\n",
        "\n",
        "# Check if x is equal to y\n",
        "print(x == y)  # Output: False\n",
        "\n",
        "# Check if x is not equal to y\n",
        "print(x != y)  # Output: True\n",
        "\n",
        "# Check if y is greater than or equal to x\n",
        "print(y >= x)  # Output: True\n",
        "\n",
        "```"
      ],
      "metadata": {
        "id": "UZ0zNT5IVT8O"
      }
    },
    {
      "cell_type": "code",
      "source": [],
      "metadata": {
        "id": "Bg6ECm3WVakw"
      },
      "execution_count": null,
      "outputs": []
    },
    {
      "cell_type": "markdown",
      "source": [
        "##### **Equality vs Identity**\n",
        "\n",
        "+ In Python the `==` operator checks for value equality, not object identity. \n",
        "+ If you want to check whether two objects are the same object (i.e., they have the same memory address), you can use the `is` operator. \n",
        "```\n",
        "x = [1, 2, 3]\n",
        "y = [1, 2, 3]\n",
        "print(x == y)  # Output: True\n",
        "print(x is y)  # Output: False\n",
        "print(id(x))\n",
        "print(id(y))\n",
        "```"
      ],
      "metadata": {
        "id": "94SKmNCe-OOa"
      }
    },
    {
      "cell_type": "code",
      "source": [],
      "metadata": {
        "id": "oT1KGaaI_yoB"
      },
      "execution_count": null,
      "outputs": []
    },
    {
      "cell_type": "markdown",
      "source": [
        "#### *Logical Operators*\n",
        "In Python, logical operators are used to perform logical operations on Boolean values. There are three logical operators available in Python:\n",
        "\n",
        "+ `and` - returns `True` if both operands are `True`, otherwise returns `False`.\n",
        "+ `or` - returns `True` if at least one operand is `True`, otherwise returns `False`.\n",
        "+ `not` - returns the opposite Boolean value of the operand. If the operand is `True`, it returns `False`, and if the operand is `False`, it returns `True`.\n",
        "\n",
        "```\n",
        "x = 5\n",
        "y = 10\n",
        "z = 15\n",
        "\n",
        "# Using the \"and\" operator\n",
        "if x < y and y < z:\n",
        "    print(\"x is less than y, and y is less than z\")\n",
        "else:\n",
        "    print(\"Either x is greater than or equal to y, or y is greater than or equal to z\")\n",
        "\n",
        "# Using the \"or\" operator\n",
        "if x < y or x < z:\n",
        "    print(\"x is less than either y or z\")\n",
        "else:\n",
        "    print(\"x is not less than either y or z\")\n",
        "\n",
        "# Using the \"not\" operator\n",
        "if not x == y:\n",
        "    print(\"x is not equal to y\")\n",
        "else:\n",
        "    print(\"x is equal to y\")\n",
        "\n",
        "```"
      ],
      "metadata": {
        "id": "G2pNXbBbVZVo"
      }
    },
    {
      "cell_type": "code",
      "source": [],
      "metadata": {
        "id": "dVtuXdW4MdAa"
      },
      "execution_count": null,
      "outputs": []
    },
    {
      "cell_type": "markdown",
      "source": [
        "##### **Short-circuit Evaluation**\n",
        "\n",
        "In Python, short-circuit evaluation is a behavior exhibited by logical operators `and` and `or`. It is a way of optimizing the evaluation of boolean expressions by evaluating only what is necessary.\n",
        "\n",
        "+ When using the `and` operator, if the left-hand operand evaluates to `False`, the right-hand operand is not evaluated because the entire expression is guaranteed to be `False` regardless of the value of the right-hand operand. \n",
        "+ Similarly, when using the `or` operator, if the left-hand operand evaluates to `True`, the right-hand operand is not evaluated because the entire expression is guaranteed to be `True` regardless of the value of the right-hand operand.\n",
        "\n",
        "+ Short-circuit evaluation can be useful in situations where evaluating an expression could be time-consuming, or to avoid exceptions.\n",
        "\n",
        "```\n",
        "# Using the \"and\" operator\n",
        "x = 5\n",
        "y = None\n",
        "if y is not None and x/y > 2:\n",
        "    print(\"x is more than twice y\")\n",
        "\n",
        "x/y\n",
        "\n",
        "# Using the \"or\" operator\n",
        "my_list = []\n",
        "if len(my_list) == 0 or my_list[0] == \"Hello\":\n",
        "    print(\"The list is empty or the first element is 'Hello'\")\n",
        "\n",
        "my_list[0] == \"Hello\"    \n",
        "```\n",
        "\n"
      ],
      "metadata": {
        "id": "6q12a_LfA7vJ"
      }
    },
    {
      "cell_type": "code",
      "source": [],
      "metadata": {
        "id": "DvxvPGfn0ARU"
      },
      "execution_count": null,
      "outputs": []
    },
    {
      "cell_type": "markdown",
      "source": [
        "### **Collections**\n",
        "A collection object refers to any data structure that can hold multiple elements.\n",
        "+ Sequence type\n",
        "+ Mapping type"
      ],
      "metadata": {
        "id": "fm51hQ5OAF_y"
      }
    },
    {
      "cell_type": "markdown",
      "source": [
        "#### *Sequence Type*\n",
        "Sequence contains an **ordred** list of objects. All the sequence types implement `__getitem__()` method, which can be used to extract objects using index operator `[]`."
      ],
      "metadata": {
        "id": "Y6a6c_IaAPlv"
      }
    },
    {
      "cell_type": "markdown",
      "source": [
        "##### **String**\n",
        "A string object is an ordered **immutable** sequence of characters. \n"
      ],
      "metadata": {
        "id": "SA_miWVlAZHP"
      }
    },
    {
      "cell_type": "markdown",
      "source": [
        "###### *Create A String*\n",
        "```\n",
        "# Use ' or \" \n",
        "str_1 = 'data science'\n",
        "str_2 = \"statistics\"\n",
        "str_3 = \"it's hard\"\n",
        "str_4 = 'it's hard' # SyntaxError: invalid syntax \n",
        "\n",
        "# to include ' inside a string with single quotes, \n",
        "# need to use the escape character, the backslash (\\).\n",
        "str_4 = 'it\\'s hard'\n",
        "\n",
        "# Use ''' or \"\"\" to create multiline strings\n",
        "mstr_1 = '''this is a \n",
        "multiline string\n",
        "''' \n",
        "```\n",
        " "
      ],
      "metadata": {
        "id": "wr6wa4mFVsOc"
      }
    },
    {
      "cell_type": "code",
      "source": [],
      "metadata": {
        "id": "K7uZjlSqZt8v"
      },
      "execution_count": null,
      "outputs": []
    },
    {
      "cell_type": "markdown",
      "source": [
        "###### *Subset a String*\n",
        "```\n",
        "string = \"Hello, world!\"\n",
        "# Use index\n",
        "string = \"Hello, world!\" # 13 characters\n",
        "print(string[0])  # H\n",
        "print(string[7])  # w\n",
        "\n",
        "# Use slice object\n",
        "print(string[0:5])   # Hello\n",
        "print(string[7:])    # world!\n",
        "print(string[:5])    # Hello\n",
        "print(string[-6:])   # world!\n",
        "\n",
        "```"
      ],
      "metadata": {
        "id": "Im_1eDzRcyeK"
      }
    },
    {
      "cell_type": "code",
      "source": [],
      "metadata": {
        "id": "rag7wdbBfGbZ"
      },
      "execution_count": null,
      "outputs": []
    },
    {
      "cell_type": "markdown",
      "source": [
        "###### *Operators, Functions and Methods for String Objects*\n",
        "***task:*** Concatenate multiple strings\n",
        "```  \n",
        "str_1 = \"You can \"\n",
        "str_2 = \"subset a string \"\n",
        "str_3 = \"using indexing and slicing.\"\n",
        "\n",
        "str_12 = str_1 + str_2 \n",
        "str_12\n",
        "# this is equivalent to:\n",
        "str_12 = str_1.__add__(str_2)\n",
        "\n",
        "str_123 = str_1 + str_2 + str_3\n",
        "str_123\n",
        "```\n",
        "\n"
      ],
      "metadata": {
        "id": "7R_8WG9afNmO"
      }
    },
    {
      "cell_type": "code",
      "source": [],
      "metadata": {
        "id": "MjyOWawRktRx"
      },
      "execution_count": null,
      "outputs": []
    },
    {
      "cell_type": "markdown",
      "source": [
        "***task:*** Repeat a string multiple times\n",
        "```\n",
        "str_1 = \"Data\"\n",
        "str_1 * 3\n",
        "# or\n",
        "str_1.__mul__(3)\n",
        "```"
      ],
      "metadata": {
        "id": "7HRo_TRfkt_7"
      }
    },
    {
      "cell_type": "code",
      "source": [],
      "metadata": {
        "id": "qLOw0dQblNMR"
      },
      "execution_count": null,
      "outputs": []
    },
    {
      "cell_type": "markdown",
      "source": [
        "***task:*** Find the index of a substring\n",
        "```\n",
        "# find() method\n",
        "str_1 = \"tennis\"\n",
        "str_1.find(\"is\") # 4. It returns the lowest index of the first match.\n",
        "str_1.find(\"ball\") # -1. \n",
        "str_1.find(\"n\") # 2. It returns the lowest index of the first match. \n",
        "\n",
        "str_1.find(\"n\", 3, None) # 3. Find the pattern in a substring, starting from index 3 to the end of the string. \n",
        "\n",
        "# index() method is very similar to find() method\n",
        "# But index() method will raise ValueError when the substring is not found\n",
        "\n",
        "str_1.index(\"ball\") # ValueError: substring not found\n",
        "```"
      ],
      "metadata": {
        "id": "JuAMXh4SmyYE"
      }
    },
    {
      "cell_type": "code",
      "source": [],
      "metadata": {
        "id": "NVbQmGa0sAPP"
      },
      "execution_count": null,
      "outputs": []
    },
    {
      "cell_type": "markdown",
      "source": [
        "***task:*** Replace some or all occurrences of a substring by a new string.\n",
        "```\n",
        "# replace() method\n",
        "str_1 = \"cat \" * 4\n",
        "print(str_1)\n",
        "\n",
        "str_1.replace(\"cat\", \"dog\")\n",
        "str_1.replace(\"cat\", \"dog\", 3)\n",
        "str_1.replace(\"cat\", \"dog\", 6)\n",
        "str_1.replace(\"lion\", \"dog\")\n",
        "```\n",
        "\n",
        "***tasks:*** Case Conversion\n",
        "```\n",
        "str_1 = \"data sciEnCe\"\n",
        "str_1.lower()\n",
        "str_1.upper()\n",
        "str_1.casefold() # useful when you deal with non-english words\n",
        "\n",
        "str_1.swapcase()\n",
        "str_1.title()\n",
        "str_1.capitalize()\n",
        "```\n",
        "\n",
        "\n",
        "\n"
      ],
      "metadata": {
        "id": "Tqx-59zgsAwK"
      }
    },
    {
      "cell_type": "code",
      "source": [],
      "metadata": {
        "id": "aips7WaR03gq"
      },
      "execution_count": null,
      "outputs": []
    },
    {
      "cell_type": "markdown",
      "source": [
        "***tasks:*** Remove character(s) from the beginning/end of a string.\n",
        "```\n",
        "str_1 = \" Hello world! \\t \\n\"\n",
        "str_1.strip()\n",
        "str_1.rstrip()\n",
        "str_1.lstrip()\n",
        "\n",
        "str_1.strip(\" He\")\n",
        "```\n",
        "\n",
        "***task:*** Format string dynamically\n",
        "```\n",
        "# Use f-string (Python 3.6 or later)\n",
        "lang_1 = \"R\"\n",
        "lang_2 = \"Python\"\n",
        "version = 3.6\n",
        "f\"{lang_1} is easy to learn, so is {lang_2} {version}\"\n",
        "```"
      ],
      "metadata": {
        "id": "eyLV4bFC2h7k"
      }
    },
    {
      "cell_type": "code",
      "source": [],
      "metadata": {
        "id": "XddmToZd4Xn0"
      },
      "execution_count": null,
      "outputs": []
    },
    {
      "cell_type": "markdown",
      "source": [
        "##### **List**\n",
        "fixed length, **mutable**, heterogeneous, sequence.\n"
      ],
      "metadata": {
        "id": "CUiYXZYbgFOR"
      }
    },
    {
      "cell_type": "markdown",
      "source": [
        "###### *Create a List*\n",
        "***task:*** Create a list\n",
        "```\n",
        "# Use []\n",
        "list_1 = [1, 2, 3]\n",
        "list_2 = [1, 3.5, \"string\"]\n",
        "    \n",
        "# Using list(obj) to convert an iterable object to a list.\n",
        "\n",
        "list_1 = list(\"string\")\n",
        "list_2 = list(range(5))\n",
        "list_3 = list(range(0, 5))\n",
        "list_4 = list(range(0, 10, 2))\n",
        "```\n",
        "***task:*** Get the length of a list\n",
        "```\n",
        "# Use len() function\n",
        "list_1 = [1, 2, 3] \n",
        "print(len(list_1))\n",
        "```"
      ],
      "metadata": {
        "id": "-_AxMfzxgPbF"
      }
    },
    {
      "cell_type": "code",
      "source": [],
      "metadata": {
        "id": "6lwhR20AzHOx"
      },
      "execution_count": null,
      "outputs": []
    },
    {
      "cell_type": "markdown",
      "source": [
        "###### *Subset a List*\n",
        "***task:*** Access an element of a list\n",
        "```\n",
        "list_1 = [1, 2, 3, 4, 5]\n",
        "# Using [] with an single index:\n",
        "    \n",
        "list_1[0] # 1 return a single object, not list\n",
        "list_1[-2] # 4 Negative index will be converted to a positive number using length of the list plus the index. So, in this example -2 will be converted to 5+ (-2) = 3\n",
        "  \n",
        "list_1[10] # IndexError: list index out of range\n",
        "```\n",
        "\n"
      ],
      "metadata": {
        "id": "pZ-r89HViVN0"
      }
    },
    {
      "cell_type": "markdown",
      "source": [
        "\n",
        "We can also use `[]` with slice object to get a subset of a list.\n",
        "\n",
        "###### *Slice Object*\n",
        "    \n",
        "* In Python, a slice object is used to define a range of elements to extract from a sequence, such as a string, list, or tuple.\n",
        " \n",
        "* A slice object is created using the built-in `slice()` function, and it takes three arguments: start, stop, and step.\n",
        "\n",
        "```\n",
        "my_list = [1,3,5,7,9,11,13]\n",
        "my_slice = slice(2, 5)\n",
        "my_list_slice = my_list[my_slice]\n",
        "print(my_list_slice)\n",
        "\n",
        "# You can also use shorthand notation to create a slice object:\n",
        "my_list_slice = my_list[2:5]\n",
        "print(my_list_slice) \n",
        "```\n",
        "\n",
        "\n",
        "\n",
        "    \n"
      ],
      "metadata": {
        "id": "sH-fjgpOkBU9"
      }
    },
    {
      "cell_type": "code",
      "source": [],
      "metadata": {
        "id": "-2Hog8ftN0gV"
      },
      "execution_count": null,
      "outputs": []
    },
    {
      "cell_type": "markdown",
      "source": [
        "More Examples:\n",
        "\n",
        "```\n",
        " \n",
        "list_1[0:4:2] # [1, 3]\n",
        "# equivalent to: \n",
        "list_1[slice(0, 4, 2)]\n",
        "\n",
        "list_1[0:1] # [1] returns a list!\n",
        "\n",
        "list_1[2:4] # [3, 4]  \n",
        "# equivalent to:\n",
        "list_1[slice(2,4)]\n",
        "\n",
        "list_1[1:] # [2, 3, 4, 5]\n",
        "# equivalent to:\n",
        "list_1[slice(1, None, None)]\n",
        "\n",
        "list_1[1::2] # [2, 4]\n",
        "list_1[:3] # [1, 2, 3]\n",
        "list_1[:3:2] # [1, 3]\n",
        "\n",
        "list_1[1:-2] # <=> list_1[1:3] -> [2, 3]\n",
        "list_1[3:1] # <=> list[3:1:1] -> []\n",
        "\n",
        "## The followings are less common    \n",
        "list_1[-9::1] # <=> list(0:5:1) => [1, 2, 3, 4, 5]\n",
        "list_1[-9:-8:1] # <=> list(0:0:1) => []\n",
        "    \n",
        "list_1[10::-1] # <=> list(5:0:-1) => [5, 4, 3, 2, 1]\n",
        "list_1[10:9:-1] # <=> list(5:5:-1) => []\n",
        "list_1[-6::-1] # []\n",
        "    \n",
        "list_1[3:1:-1] # [4, 3] negative step value means move backward.\n",
        "list_1[0:4:-1] # []\n",
        "```"
      ],
      "metadata": {
        "id": "x9UKWKlHNtqe"
      }
    },
    {
      "cell_type": "code",
      "source": [],
      "metadata": {
        "id": "XyH-k8HuQIWf"
      },
      "execution_count": null,
      "outputs": []
    },
    {
      "cell_type": "markdown",
      "source": [
        "When a slice object is used to slice a sequence. Python will get effective start and stop value when a sequence is given (based on the lengh of the sequence).\n",
        "\n",
        "      ```\n",
        "      seq[i:j] \n",
        "      if i > len(seq) -> len(seq);  if j > len(seq) -> len(seq)\n",
        "      if i < 0 -> max(0, len(seq) + i);  if j < 0 -> max(0, len(seq) + j)\n",
        "  \n",
        "      if i ommited or None -> 0\n",
        "      if j ommited or None -> len(seq)\n",
        "      ```\n",
        "  \n",
        "      ```\n",
        "      seq[i:j:k] with k < 0 \n",
        "      if i >= len(seq) -> len(seq) - 1;  if j >= len(seq) -> len(seq) - 1\n",
        "      if i < 0 -> max(-1, len(seq) + i);  if j < 0 -> max(-1, len(seq) + j)\n",
        "  \n",
        "      if i ommited or None -> len(seq) - 1\n",
        "      if j ommited or None -> -1\n",
        "      ```\n"
      ],
      "metadata": {
        "id": "zqH5CRZnjgDL"
      }
    },
    {
      "cell_type": "markdown",
      "source": [
        "###### *Operations on one list*"
      ],
      "metadata": {
        "id": "ra9Kwl4IQJ6C"
      }
    },
    {
      "cell_type": "markdown",
      "source": [
        "\n",
        "***task:*** Add one element to a list\n",
        "+ Append an element\n",
        "  ```\n",
        "  list_1 = [1, 2, 3, 4, 5]\n",
        "  list_1.append(6) \n",
        "  # in-place method, return None. \n",
        "  # Append 6 to the end of the sequence \n",
        "  \n",
        "  list_1 # [1, 2, 3, 4, 5, 6]\n",
        "  ```\n",
        "+ Insert an element  \n",
        "  ```  \n",
        "  list_1 = [1, 2, 3, 4, 5]\n",
        "  list_1.insert(1, 'new') \n",
        "  # in-place method, return None. \n",
        "  # Insert a element at the given index.\n",
        "\n",
        "  list_1 # [1, 'new', 2, 3, 4, 5]\n",
        "\n",
        "  list_1.insert(10, 'new') \n",
        "  # [1, 'new', 2, 3, 4, 5, 'new']\n",
        "  # if index is outof bound on the right hand side, then append the element to the end.\n",
        "\n",
        "  list_1.insert(-1, 'aa') \n",
        "  # [1, 'new', 2, 3, 4, 5, 'aa', 'new'] \n",
        "  # negative index will be converted to a positive index as usual.\n",
        "\n",
        "  list_1.insert(-len(list_1), 'test') # ['test', 1, 'new', 2, 3, 4, 5, 'aa', 'new']\n",
        "\n",
        "  list_1 = [1, 2, 3, 4, 5]\n",
        "  list_1.insert(-6, \"test\") \n",
        "  # ['test', 1, 2, 3, 4, 5] if index is outof bound on the left hand side, then insert the element at the beginning of the list.    \n",
        "  ```\n",
        "\n",
        "\n"
      ],
      "metadata": {
        "id": "z3_nJk8YAh7r"
      }
    },
    {
      "cell_type": "code",
      "source": [],
      "metadata": {
        "id": "K9o78Jo92LKg"
      },
      "execution_count": null,
      "outputs": []
    },
    {
      "cell_type": "markdown",
      "source": [
        "***tasks:*** Update one or more elements of a list\n",
        "```\n",
        "my_list = [1,2,3,4,5,6]\n",
        "my_list[1] = 20\n",
        "print(my_list)\n",
        "\n",
        "my_list[1:3] = [200] # my_list[1:3] = 200 does not work\n",
        "print(my_list)\n",
        "\n",
        "my_list[2:4] = [400, 500, 600, 700]\n",
        "print(my_list)\n",
        "```"
      ],
      "metadata": {
        "id": "bT1XMVPZ3JUJ"
      }
    },
    {
      "cell_type": "code",
      "source": [],
      "metadata": {
        "id": "wzD4UV5yneho"
      },
      "execution_count": null,
      "outputs": []
    },
    {
      "cell_type": "markdown",
      "source": [
        "***tasks*** Remove an element from a list\n",
        "```\n",
        "# Use del statement\n",
        "my_list = [1,2,5,3,5,6,7]\n",
        "del my_list[2]\n",
        "print(my_list)\n",
        "\n",
        "# Use remove method \n",
        "my_list = [1,2,5,3,5,6,7]\n",
        "print(my_list.remove(5))\n",
        "print(my_list) # Remove first occurrence of value.\n",
        "\n",
        "my_list.remove(100) # ValueError: list.remove(x): x not in list\n",
        "\n",
        "# Use pop method \n",
        "my_list = [1,2,5,3,5,6,7]\n",
        "print(my_list.pop())\n",
        "print(my_list)\n",
        "\n",
        "print(my_list.pop(2))\n",
        "print(my_list)\n",
        "\n",
        "my_list.pop(20) # Raises IndexError if list is empty or index is out of range.\n",
        "```"
      ],
      "metadata": {
        "id": "iABkg0tuFw-2"
      }
    },
    {
      "cell_type": "code",
      "source": [],
      "metadata": {
        "id": "nyevMpOaHJTK"
      },
      "execution_count": null,
      "outputs": []
    },
    {
      "cell_type": "markdown",
      "source": [
        "***task:*** Membership checking\n",
        "```\n",
        "list_1 = [1,2,3]\n",
        "print(1 in list_1)\n",
        "print(11 not in list_1)\n",
        "```"
      ],
      "metadata": {
        "id": "zhVRv4WeQQHc"
      }
    },
    {
      "cell_type": "code",
      "source": [],
      "metadata": {
        "id": "3tt5Xss6QwLx"
      },
      "execution_count": null,
      "outputs": []
    },
    {
      "cell_type": "markdown",
      "source": [
        "***task:*** Find the index value of a given object in the list (or subset of the list).\n",
        "```\n",
        "## Using index() method.\n",
        "## li.index(x[, i[, j]]) index of the first \n",
        "## occurrence of x in list li (at or after index i and before index j)\n",
        "\n",
        "my_list = [4, 5, 6, 5, 7, 8, 7]\n",
        "print(my_list.index(5)) # 1\n",
        "my_list.index(20) # ValueError: 20 is not in list\n",
        "print(my_list.index(5, 2)) # 3\n",
        "my_list.index(7, , 5) # SyntaxError: invalid syntax\n",
        "```  "
      ],
      "metadata": {
        "id": "g8cmzbtK255-"
      }
    },
    {
      "cell_type": "code",
      "source": [],
      "metadata": {
        "id": "OWL7--d340X6"
      },
      "execution_count": null,
      "outputs": []
    },
    {
      "cell_type": "markdown",
      "source": [
        "***task:*** Count frequency of elements in a list\n",
        "```\n",
        "## Using count method\n",
        "my_list = (1, 2, 2, 2, 3, 4, 2)\n",
        "print(my_list.count(2)) # 4\n",
        "print(my_list.count(20)) # 0\n",
        "```"
      ],
      "metadata": {
        "id": "CI55kCIm59_7"
      }
    },
    {
      "cell_type": "code",
      "source": [],
      "metadata": {
        "id": "XHred9xq6OTE"
      },
      "execution_count": null,
      "outputs": []
    },
    {
      "cell_type": "markdown",
      "source": [
        "***tasks:*** Replicate a list multiple times\n",
        "```\n",
        "## Using * operator\n",
        "['hello', 'world'] * 3 # ['hello', 'world', 'hello', 'world', 'hello', 'world']\n",
        "```\n",
        "\n",
        "Note that the objects themselves are not copied, only the references to them are copied. (This is called **shallow copy**)\n",
        "```\n",
        "list_1 = [[1,2], [3,4]] \n",
        "list_2 = list_1 * 2\n",
        "print(list_2) # [[1, 2], [3, 4], [1, 2], [3, 4]]\n",
        "\n",
        "list_1[0].append(10)\n",
        "print(list_2) # [[1, 2, 10], [3, 4], [1, 2, 10], [3, 4]]\n",
        "  \n",
        "list_2[0].append(15)\n",
        "print(list_2) \n",
        "# [[1, 2, 10, 15], [3, 4], [1, 2, 10, 15], [3, 4]] -> the first and the third element share same memory address.\n",
        "  \n",
        "print(list_1) # [[1, 2, 10, 15], [3, 4]]\n",
        "```"
      ],
      "metadata": {
        "id": "VF46KOb56dEO"
      }
    },
    {
      "cell_type": "markdown",
      "source": [
        "***task*** Sort a list\n",
        "```\n",
        "# Use sort() method to sort and modifies the list in-place\n",
        "numbers = [4, 2, 7, 1, 3]\n",
        "numbers.sort()\n",
        "print(numbers) \n",
        "\n",
        "numbers = [4, 2, 7, 1, 3]\n",
        "numbers.sort(reverse = True) # sort in descending order\n",
        "print(numbers)\n",
        "\n",
        "strings = [\"dog\", \"rabbit\", \"horse\", \"cat\", \"dragon\"]\n",
        "strings.sort(key = len) # Using len() function\n",
        "print(strings) # sort is stable, which means the order of two equal elements is maintained.\n",
        "\n",
        "# Use sorted() Python fucntion to returns a new sorted list, \n",
        "# leaving the original list unchanged\n",
        "strings = [\"dog\", \"rabbit\", \"horse\", \"cat\", \"dragon\"]\n",
        "print(sorted(strings, key = len))\n",
        "print(strings)\n",
        "```"
      ],
      "metadata": {
        "id": "1826JVVRHUkg"
      }
    },
    {
      "cell_type": "code",
      "source": [],
      "metadata": {
        "id": "PsgLZVmoLCD9"
      },
      "execution_count": null,
      "outputs": []
    },
    {
      "cell_type": "markdown",
      "source": [
        "###### *Operations on two or more lists*\n",
        "\n"
      ],
      "metadata": {
        "id": "75zFqgvfncz3"
      }
    },
    {
      "cell_type": "markdown",
      "source": [
        "***task*** Combine two lists\n",
        "```\n",
        "# \"+\" operator\n",
        "list_1 = [1,2,3,4]\n",
        "list_2 = [5,6,7]\n",
        "print(list_1 + list_2)\n",
        "\n",
        "# extend() method\n",
        "# adds multiple elements to the end of a list. \n",
        "# It takes an iterable (e.g., list, tuple, set, string, etc.) as an argument\n",
        "# modifies the original list in-place.\n",
        "\n",
        "print(list_1.extend(list_2))\n",
        "print(list_1)\n",
        "```"
      ],
      "metadata": {
        "id": "9jghdLpJRaOB"
      }
    },
    {
      "cell_type": "markdown",
      "source": [
        "***tasks*** Combine a list of strings into one string\n",
        "```\n",
        "# Use string method join()\n",
        "list_strings = [\"abc\", \"def\", \"gh\"]\n",
        "\",\".join(list_strings)\n",
        "```"
      ],
      "metadata": {
        "id": "6KeY7K6W6Z8J"
      }
    },
    {
      "cell_type": "markdown",
      "source": [
        "###### *List Unpacking*   \n",
        "  \n",
        "***task:*** Multiple assignments  \n",
        "```\n",
        "## assign a list to several variables\n",
        "my_list = [1,2,3]\n",
        "a, b, c = my_list # equivalent to a,b,c = 1,2,3\n",
        "print(a) #1\n",
        "    \n",
        "d, e = my_list # ValueError: too many values to unpack (expected 2)\n",
        "    \n",
        "my_list = [1, 2, [3,4]]\n",
        "a,b, (c, d) = my_list\n",
        "print(d) #4\n",
        "```\n",
        "\n",
        "***task:*** Swap values of two variable   \n",
        "```\n",
        "## swap values of two variable using upacking\n",
        "a, b = [1, 2]\n",
        "b, a = [a, b] # righ hand evaluaed first, than assign to the left hand.\n",
        "print(a, b) # 2 1\n",
        "```  "
      ],
      "metadata": {
        "id": "kfk8z-QP8LDA"
      }
    },
    {
      "cell_type": "code",
      "source": [],
      "metadata": {
        "id": "0UYy4x53RBqG"
      },
      "execution_count": null,
      "outputs": []
    },
    {
      "cell_type": "markdown",
      "source": [
        "List unpakcing when * operator is on the left hand of `=`\n",
        "```\n",
        "values = [1,2,3,4,5]\n",
        "a, b, *rest = values\n",
        "print(a, b) # 1 2\n",
        "print(rest) # [3, 4, 5] \n",
        "    \n",
        "a, *rest, b = values\n",
        "print(a, b) # 1 5\n",
        "print(rest) # [2, 3, 4]\n",
        "```\n",
        "  \n",
        "List unpakcing when * operator is on the right hand of `=`  \n",
        "```\n",
        "list_1 = [1, 2]\n",
        "list_2 = [3, 4]\n",
        "list_3 = [*list_1, *list_2]\n",
        "print(list_3) # [1, 2, 3, 4] \n",
        "```    "
      ],
      "metadata": {
        "id": "hYn_O4EjBKfN"
      }
    },
    {
      "cell_type": "code",
      "source": [],
      "metadata": {
        "id": "7WjEw9f12qUG"
      },
      "execution_count": null,
      "outputs": []
    },
    {
      "cell_type": "markdown",
      "source": [
        "##### **Tuple**\n",
        "\n",
        "Important characteristics:\n",
        "  * Fixed length, **immutable** sequence.\n",
        "  * Elements can be of different types."
      ],
      "metadata": {
        "id": "2jBG5hpjyNfs"
      }
    },
    {
      "cell_type": "markdown",
      "source": [
        "###### *Create a tuple*\n",
        "  \n",
        "***tasks:*** Creat a tuple\n",
        "  + `tup = 1, 2, 3` # called tuple packing\n",
        "  + `tup = (1, 2, 3)`\n",
        "  + `tup = tuple([4, 0, 2])` \n",
        "    * using tuple constructor (`tuple()`) to convert any sequence type of iterator to a tuple.\n",
        "    * `tup = tuple('str') # ('s', 't', 'r')`. string type is a sequence type.\n",
        "    \n",
        "  + `tup = (5, )` you need this format to create a tuple with single element.\n",
        "  + each member of the tuple could be of different types. `(1, 4.5, 'hello')`  "
      ],
      "metadata": {
        "id": "tbBKtCY1D6uH"
      }
    },
    {
      "cell_type": "code",
      "source": [],
      "metadata": {
        "id": "hAtaOPh8yjEB"
      },
      "execution_count": null,
      "outputs": []
    },
    {
      "cell_type": "markdown",
      "source": [
        "###### *Subset a Tuple*\n",
        "***tasks:*** Access one or more elements in a tuple\n",
        "\n",
        "Using `[]`, Python will call `__getitem__()` method of the object.\n",
        "\n",
        "  ```{}\n",
        "  tup = tuple('hello')\n",
        "    \n",
        "  # Using [] with a single index. index starts from 0 not 1. \n",
        "  tup[1] # 'e'\n",
        "  tup[10] # IndexError: tuple index out of range\n",
        "  tup[-1] # 'o'. Negative index will be converted to a positive number using lenght of the tuple plus the index. So, in this example -1 will be converted to 5+ (-1) = 4\n",
        "    \n",
        "  tup[2, 4] # TypeError: tuple indices must be integers or slices, not tuple\n",
        "    \n",
        "  # Using slice object\n",
        "  tup[slice(start = 0, stop = 3)] # ('h', 'e', 'l')\n",
        "    \n",
        "  tup[slice(start = 0, stop = 5, step = 2)] # ('h', 'l', 'o')\n",
        "    \n",
        "  tup[0:5:2] # same as above ('h', 'l', 'o')\n",
        "  ```"
      ],
      "metadata": {
        "id": "Ir5lEqihEBCQ"
      }
    },
    {
      "cell_type": "code",
      "source": [],
      "metadata": {
        "id": "wMOX_9UHTFjb"
      },
      "execution_count": null,
      "outputs": []
    },
    {
      "cell_type": "markdown",
      "source": [
        "You can not modify a tuple in the way of adding, reassigning or deleting a element of a tuple, as it is **immutable**.\n",
        "\n",
        "***know***\n",
        "```\n",
        "tup[1] = 't' # TypeError: 'tuple' object does not support item assignment\n",
        "del tup[1] # TypeError: 'tuple' object doesn't support item deletion\n",
        "```\n",
        "  \n",
        "**But**, if one element of a tuple is mutable, you can modify the element in-place.\n",
        "      \n",
        "```\n",
        "tup = (10, [3,4,5], 'end')\n",
        "tup[1].append(6)\n",
        "tup # (10, [3, 4, 5, 6], 'end')\n",
        "```"
      ],
      "metadata": {
        "id": "4tbtqewoEYUi"
      }
    },
    {
      "cell_type": "code",
      "source": [],
      "metadata": {
        "id": "U_1pr6VBTHYh"
      },
      "execution_count": null,
      "outputs": []
    },
    {
      "cell_type": "markdown",
      "source": [
        "###### *Operations on one or more tuples*\n",
        "\n",
        "***task:*** Length of the tuple\n",
        "```\n",
        "tup = (1,2,3)\n",
        "len(tup) # 3 or tup.__len__()\n",
        "```\n",
        "\n",
        "***task:*** Check whether an object is in the given tuple\n",
        "```\n",
        "## Membership or contains\n",
        "tup = (1, 2, 3)\n",
        "1 in tup # True\n",
        "2 not in tup # False\n",
        "```"
      ],
      "metadata": {
        "id": "KyJlfDgXE3_R"
      }
    },
    {
      "cell_type": "code",
      "source": [],
      "metadata": {
        "id": "5OwI1jCATJRE"
      },
      "execution_count": null,
      "outputs": []
    },
    {
      "cell_type": "markdown",
      "source": [
        "***task:*** Find the index value of a given object in the tuple (or subset of the tuple).\n",
        "```\n",
        "## Using index() method.\n",
        "## s.index(x[, i[, j]]) index of the first \n",
        "## occurrence of x in tuple s (at or after index i and before index j)\n",
        "\n",
        "tup = (4, 5, 6, 5, 7, 8, 7)\n",
        "tup.index(5) # 1\n",
        "tup.index(20) # ValueError: tuple.index(x): x not in tuple\n",
        "tup.index(5, 2) # 3\n",
        "tup.index(7, , 5) # SyntaxError: invalid syntax\n",
        "```  "
      ],
      "metadata": {
        "id": "2jQXwLDBFAkM"
      }
    },
    {
      "cell_type": "code",
      "source": [
        "tup = (4, 5, 6, 5, 7, 8, 7)\n",
        "tup.index(5)"
      ],
      "metadata": {
        "colab": {
          "base_uri": "https://localhost:8080/"
        },
        "id": "_6_UNhXuGg1Z",
        "outputId": "cf417275-dc51-45a7-9ab6-29d0fe0c74a7"
      },
      "execution_count": null,
      "outputs": [
        {
          "output_type": "execute_result",
          "data": {
            "text/plain": [
              "1"
            ]
          },
          "metadata": {},
          "execution_count": 5
        }
      ]
    },
    {
      "cell_type": "markdown",
      "source": [
        "***task:*** Count frequency of elements in a tuple\n",
        "```\n",
        "## Using count method\n",
        "a = (1, 2, 2, 2, 3, 4, 2)\n",
        "a.count(2) # 4\n",
        "a.count(20) # 0\n",
        "```\n",
        "    "
      ],
      "metadata": {
        "id": "m9TzoPplKEdC"
      }
    },
    {
      "cell_type": "code",
      "source": [],
      "metadata": {
        "id": "tXRrBz97TNaD"
      },
      "execution_count": null,
      "outputs": []
    },
    {
      "cell_type": "markdown",
      "source": [
        "***tasks:*** Replicate a tuple multiple times\n",
        "```\n",
        "## Using * operator\n",
        "('hello', 'world') * 3 # ('hello', 'world', 'hello', 'world', 'hello', 'world')\n",
        "\n",
        "\n",
        "```\n",
        "\n",
        "Note that the objects themselves are not copied, only the references to them.\n",
        "```\n",
        "tup = ([1,2], [3,4]) \n",
        "tup_2 = tup * 2\n",
        "print(tup_2) # ([1, 2], [3, 4], [1, 2], [3, 4])\n",
        "\n",
        "tup[0].append(10)\n",
        "print(tup_2) # ([1, 2, 10], [3, 4], [1, 2, 10], [3, 4]) \n",
        "  \n",
        "tup_2[0].append(15)\n",
        "print(tup_2) \n",
        "# ([1, 2, 10, 15], [3, 4], [1, 2, 10, 15], [3, 4]) -> the first and the third element share same memory address.\n",
        "  \n",
        "print(tup) # ([1, 2, 10, 15], [3, 4])\n",
        "```\n",
        "  \n",
        "    "
      ],
      "metadata": {
        "id": "I58UE_n5K7nI"
      }
    },
    {
      "cell_type": "code",
      "source": [],
      "metadata": {
        "colab": {
          "base_uri": "https://localhost:8080/"
        },
        "id": "YwglCiaWMFt0",
        "outputId": "dea4d369-5200-42df-9741-1e5db942b97d"
      },
      "execution_count": null,
      "outputs": [
        {
          "output_type": "stream",
          "name": "stdout",
          "text": [
            "([1, 2], [3, 4], [1, 2], [3, 4])\n",
            "([1, 2, 10], [3, 4], [1, 2, 10], [3, 4])\n",
            "([1, 2, 10, 15], [3, 4], [1, 2, 10, 15], [3, 4])\n",
            "([1, 2, 10, 15], [3, 4])\n"
          ]
        }
      ]
    },
    {
      "cell_type": "markdown",
      "source": [
        "***tasks:*** Concatenating two or more tuples using \n",
        "```\n",
        "## Using + operator\n",
        "(1, 2, 3) + (4, 5) # (1, 2, 3, 4, 5)\n",
        "``` "
      ],
      "metadata": {
        "id": "uBR97XmQMn3z"
      }
    },
    {
      "cell_type": "code",
      "source": [],
      "metadata": {
        "id": "bbzp4v5sTTHJ"
      },
      "execution_count": null,
      "outputs": []
    },
    {
      "cell_type": "markdown",
      "source": [
        "***tasks*** Combine a tuple of strings into one string\n",
        "```\n",
        "tup_strings = (\"abc\", \"def\", \"gh\")\n",
        "\":\".join(tup_strings)\n",
        "```"
      ],
      "metadata": {
        "id": "-20zZJgU5bxb"
      }
    },
    {
      "cell_type": "markdown",
      "source": [
        "###### *Tuple Unpacking*   \n",
        "  \n",
        "***task:*** Multiple assignments  \n",
        "```\n",
        "## assign a tuple to several variables\n",
        "tup = (1,2,3)\n",
        "a, b, c = tup # equivalent to a,b,c = 1,2,3\n",
        "a #1\n",
        "    \n",
        "d, e = tup # ValueError: too many values to unpack (expected 2)\n",
        "    \n",
        "tup = (1, 2, (3,4))\n",
        "a,b, (c, d) = tup\n",
        "d #4\n",
        "```\n",
        "\n",
        "***task:*** Swap values of two variable   \n",
        "```\n",
        "## swap values of two variable using upacking\n",
        "a, b = 1, 2\n",
        "b, a = a, b # righ hand evaluaed first, than assign to the left hand.\n",
        "a, b # (2, 1)\n",
        "```  \n",
        " \n",
        "  \n"
      ],
      "metadata": {
        "id": "k-vFhRnxAlFh"
      }
    },
    {
      "cell_type": "code",
      "source": [],
      "metadata": {
        "id": "Butur297Us8R"
      },
      "execution_count": null,
      "outputs": []
    },
    {
      "cell_type": "markdown",
      "source": [
        "\n",
        "Tuple unpakcing when * operator is on the left hand of `=`\n",
        "```\n",
        "values = 1,2,3,4,5\n",
        "a, b, *rest = values\n",
        "a, b # (1, 2)\n",
        "rest # [3, 4, 5] it is a list not a tuple!!\n",
        "    \n",
        "a, *rest, b = values\n",
        "a #1\n",
        "b #5\n",
        "rest # [2, 3, 4]\n",
        "```\n",
        "  \n",
        "Tuple unpakcing when * operator is on the right hand of `=`  \n",
        "```\n",
        "tup = (1,2)\n",
        "tup_s = (*tup)\n",
        "# SyntaxError: can't use starred expression here\n",
        "# but we can use the following\n",
        "tup_s = [*tup]\n",
        "tup_s # [1, 2]\n",
        "# or\n",
        "tup_s = (*tup, *tup)\n",
        "tup_s # (1, 2, 1, 2) \n",
        "```    \n",
        "  \n",
        "  "
      ],
      "metadata": {
        "id": "1wlRkOfCUtWU"
      }
    },
    {
      "cell_type": "code",
      "source": [],
      "metadata": {
        "id": "OmO5xSJSWOAS"
      },
      "execution_count": null,
      "outputs": []
    },
    {
      "cell_type": "markdown",
      "source": [
        "#### *Mapping Type (Association Array)*\n",
        "A collection of keys and associated values. (order doesn't matter)"
      ],
      "metadata": {
        "id": "t6A5z8FOAyQn"
      }
    },
    {
      "cell_type": "markdown",
      "source": [
        "##### **Dictionary**\n",
        "\n",
        "In Python, a dictionary is a collection of key-value pairs. \n",
        "+ It is also sometimes called a hash table or an associative array. \n",
        "+ Dictionaries are represented using curly braces `{}` and each key-value pair is separated by a colon `:`. \n",
        "+ Each key in a dictionary is unique.\n",
        "+ Constant time complexity for basic operations such as adding, removing, and checking for membership.\n",
        "\n",
        "```\n",
        "my_dict = {\"apple\": 1, \"banana\": 2, \"orange\": 3}\n",
        "print(my_dict)\n",
        "```\n",
        "\n",
        "A dictionary's keys can only be hashable objects\n",
        "\n",
        "**Hashable Object**\n",
        "\n",
        "+ If an object has a hash value that remains the same throughout its lifetime \n",
        "+ The hash value can be compared to other objects for equality. \n",
        "+ The hash value is a unique integer that is used to look up an object in a hash table.\n",
        "+ Hashable objects in Python include:\n",
        "Immutable data types such as numbers, strings, and tuples."
      ],
      "metadata": {
        "id": "cwjFJFJSBHsd"
      }
    },
    {
      "cell_type": "markdown",
      "source": [
        "###### *Dictionary Funtions/Methods*\n",
        "\n",
        "***Creat a dictionary***\n",
        "```\n",
        "# Use \"{}\"\n",
        "my_dict = {\"apple\": 1, \"banana\": 2, \"orange\": 3}\n",
        "print(my_dict)\n",
        "\n",
        "my_dict = {}\n",
        "print(my_dict)\n",
        "\n",
        "# dict() constructor\n",
        "my_dict = dict(apple = 1, banana = 2, orange = 3)\n",
        "print(my_dict)\n",
        "\n",
        "my_list = [('apple', 1), ('banana', 2), ('orange', 3), ('banana', 25)]\n",
        "my_dict = dict(my_list)\n",
        "print(my_dict)\n",
        "```\n",
        "\n",
        "***Length of a dictionary***\n",
        "```\n",
        "my_dict = {\"apple\": 1, \"banana\": 2, \"orange\": 3}\n",
        "len(my_dict)\n",
        "```\n",
        "\n",
        "***Check if a given key exists in a dictionary***\n",
        "```\n",
        "# Use \"in\" operator\n",
        "my_dict = {\"apple\": 1, \"banana\": 2, \"orange\": 3}\n",
        "print(\"apple\" in my_dict)\n",
        "```\n"
      ],
      "metadata": {
        "id": "7bJ6Il67b2pD"
      }
    },
    {
      "cell_type": "code",
      "source": [],
      "metadata": {
        "id": "CKYs4oXT9wI1"
      },
      "execution_count": null,
      "outputs": []
    },
    {
      "cell_type": "markdown",
      "source": [
        "***Fetch an item in a dictionary***\n",
        "```\n",
        "# Use [] with key\n",
        "my_dict = {\"apple\": 1, \"banana\": 2, \"orange\": 3}\n",
        "print(my_dict[\"banana\"])\n",
        "\n",
        "my_dict[\"grape\"] # KeyError: 'grape'\n",
        "\n",
        "# Use get() method\n",
        "print(my_dict.get(\"banana\"))\n",
        "print(my_dict.get(\"grape\")) # If the key is not present, it returns the default value (if provided) or None.\n",
        "\n",
        "print(my_dict.get(\"grape\", -1))\n",
        "```"
      ],
      "metadata": {
        "id": "oXpjxvbV9s1U"
      }
    },
    {
      "cell_type": "code",
      "source": [
        "my_dict = {\"apple\": 1, \"banana\": 2, \"orange\": 3}\n",
        "print(my_dict[\"banana\"])\n",
        "\n",
        "print(my_dict.get(\"banana\"))\n",
        "print(my_dict.get(\"grape\"))\n",
        "print(my_dict.get(\"grape\", -1))"
      ],
      "metadata": {
        "colab": {
          "base_uri": "https://localhost:8080/"
        },
        "id": "urER-nDmel3R",
        "outputId": "c1a75cc0-4a6d-4a5a-c06f-b769f8f859fe"
      },
      "execution_count": null,
      "outputs": [
        {
          "output_type": "stream",
          "name": "stdout",
          "text": [
            "2\n",
            "2\n",
            "None\n",
            "-1\n"
          ]
        }
      ]
    },
    {
      "cell_type": "markdown",
      "source": [
        "***Modify an item or add a new item***\n",
        "```\n",
        "# Use assignment operator =\n",
        "my_dict = {\"apple\": 1, \"banana\": 2, \"orange\": 3}\n",
        "my_dict[\"apple\"] = 10\n",
        "print(my_dict)\n",
        "\n",
        "my_dict[\"peach\"] = 20\n",
        "print(my_dict)\n",
        "```\n",
        "\n",
        "***Delete an item***\n",
        "```\n",
        "# Use \"del\" statement\n",
        "my_dict = {\"apple\": 1, \"banana\": 2, \"orange\": 3, \"peach\": 4, \"pear\": 5}\n",
        "del my_dict[\"orange\"]\n",
        "print(my_dict)\n",
        "\n",
        "del my_dict[\"lettuce\"] # KeyError: 'lettuce'\n",
        "\n",
        "# Use pop method\n",
        "my_dict = {\"apple\": 1, \"banana\": 2, \"orange\": 3, \"peach\": 4, \"pear\": 5}\n",
        "result = my_dict.pop(\"apple\")\n",
        "print(result)\n",
        "print(my_dict)\n",
        "\n",
        "result = my_dict.pop(\"lettuce\") #KeyError: 'lettuce'\n",
        "result = my_dict.pop(\"lettuce\", -1)\n",
        "print(result)\n",
        "print(my_dict)\n",
        "\n",
        "```"
      ],
      "metadata": {
        "id": "_9XfHjLmc43R"
      }
    },
    {
      "cell_type": "code",
      "source": [],
      "metadata": {
        "id": "ngCR24bdB0hM"
      },
      "execution_count": null,
      "outputs": []
    },
    {
      "cell_type": "markdown",
      "source": [
        "***Convert a dictionay to a list***\n",
        "```\n",
        "my_dict = {\"apple\": 1, \"banana\": 2, \"orange\": 3, \"peach\": 4, \"pear\": 5}\n",
        "\n",
        "# items() method\n",
        "print(list(my_dict.items()))\n",
        "\n",
        "# keys() method\n",
        "print(list(my_dict.keys()))\n",
        "\n",
        "# values() method\n",
        "print(list(my_dict.values()))\n",
        "```"
      ],
      "metadata": {
        "id": "3zEPUPffB06h"
      }
    },
    {
      "cell_type": "code",
      "source": [],
      "metadata": {
        "id": "FUSYCnRwC5Gz"
      },
      "execution_count": null,
      "outputs": []
    },
    {
      "cell_type": "markdown",
      "source": [
        "***Combine two dictionaris***\n",
        "```\n",
        "my_dict1 = {\"apple\": 1, \"banana\": 2, \"orange\": 3}\n",
        "my_dict2 = { \"banana\": 25, \"peach\": 4, \"pear\": 5}\n",
        "\n",
        "# update() method\n",
        "print(my_dict1.update(my_dict2))\n",
        "print(my_dict1)\n",
        "print(my_dict2)\n",
        "\n",
        "```"
      ],
      "metadata": {
        "id": "LdUYrntyChZ9"
      }
    },
    {
      "cell_type": "code",
      "source": [],
      "metadata": {
        "id": "O-ge-Q7uDsxk"
      },
      "execution_count": null,
      "outputs": []
    },
    {
      "cell_type": "markdown",
      "source": [
        "##### **Set**\n",
        "\n",
        "In Python, a set is an unordered collection of unique elements. "
      ],
      "metadata": {
        "id": "SAL408bYNkT4"
      }
    },
    {
      "cell_type": "markdown",
      "source": [
        "##### *Set Functions/Methods*\n",
        "\n",
        "***Create a set***\n",
        "```\n",
        "my_set = {1, 2, 3}\n",
        "print(my_set)  # Output: {1, 2, 3}\n",
        "\n",
        "# Creating a set from a list\n",
        "my_list = [1, 2, 2, 3, 3, 3]\n",
        "my_set = set(my_list)\n",
        "print(my_set)  # Output: {1, 2, 3}\n",
        "\n",
        "empty_set = set()\n",
        "print(empty_set)\n",
        "```\n",
        "\n"
      ],
      "metadata": {
        "id": "zxehhBMPBMlI"
      }
    },
    {
      "cell_type": "code",
      "source": [],
      "metadata": {
        "id": "v0-qf1jII-9m"
      },
      "execution_count": null,
      "outputs": []
    },
    {
      "cell_type": "markdown",
      "source": [
        "***Add an element to the set.***\n",
        "```\n",
        "# add() method\n",
        "my_set = {1, 2, 3}\n",
        "my_set.add(4)\n",
        "print(my_set)  # Output: {1, 2, 3, 4}\n",
        "```\n",
        "\n",
        "***Adds elements from an iterable (e.g. list, set, tuple) to the set.***\n",
        "```\n",
        "my_set = {1, 2, 3}\n",
        "my_set.update([3, 4, 5])\n",
        "print(my_set)  # Output: {1, 2, 3, 4, 5}\n",
        "```"
      ],
      "metadata": {
        "id": "0X64NtQXLGIQ"
      }
    },
    {
      "cell_type": "code",
      "source": [],
      "metadata": {
        "id": "6xm89ec3LfTL"
      },
      "execution_count": null,
      "outputs": []
    },
    {
      "cell_type": "markdown",
      "source": [
        "******"
      ],
      "metadata": {
        "id": "0PviDkLRK5x5"
      }
    },
    {
      "cell_type": "markdown",
      "source": [
        " \n",
        "***Removes an element from the set.***\n",
        "```\n",
        "# remove() method\n",
        "my_set = {1, 2, 3}\n",
        "print(my_set.remove(2))\n",
        "print(my_set)  # Output: {1, 3}\n",
        "\n",
        "my_set.remove(4) # KeyError: 4\n",
        "\n",
        "# discard() method\n",
        "my_set = {1, 2, 3}\n",
        "print(my_set.discard(2))\n",
        "print(my_set)  # Output: {1, 3}\n",
        "my_set.discard(4) # Does not raise an error if the element is not found.\n",
        "print(my_set)  # Output: {1, 3}\n",
        "\n",
        "# pop() method removes and returns an arbitrary element from the set.\n",
        "my_set = {1, 2, 3}\n",
        "elem = my_set.pop()\n",
        "print(elem)  \n",
        "print(my_set)  \n",
        "\n",
        "set().pop() # KeyError: 'pop from an empty set'\n",
        "\n",
        "# clear() method removes all elements from the set.\n",
        "my_set = {1, 2, 3}\n",
        "my_set.clear()\n",
        "print(my_set)  # Output: set()\n",
        "```\n"
      ],
      "metadata": {
        "id": "xwWpAtMuKuga"
      }
    },
    {
      "cell_type": "code",
      "source": [],
      "metadata": {
        "id": "PirRWTFKNaku"
      },
      "execution_count": null,
      "outputs": []
    },
    {
      "cell_type": "markdown",
      "source": [
        "Sets support various operations such as union, intersection, difference, and symmetric difference. \n",
        "\n",
        "```\n",
        "set1 = {1, 2, 3}\n",
        "set2 = {3, 4, 5}\n",
        "\n",
        "# Union of two sets\n",
        "union = set1.union(set2)\n",
        "print(union)  # Output: {1, 2, 3, 4, 5}\n",
        "\n",
        "# Intersection of two sets\n",
        "intersection = set1.intersection(set2)\n",
        "print(intersection)  # Output: {3}\n",
        "\n",
        "# Difference of two sets\n",
        "difference = set1.difference(set2)\n",
        "print(difference)  # Output: {1, 2}\n",
        "\n",
        "# Symmetric difference of two sets\n",
        "symmetric_difference = set1.symmetric_difference(set2)\n",
        "print(symmetric_difference)  # Output: {1, 2, 4, 5}\n",
        "\n",
        "```"
      ],
      "metadata": {
        "id": "Q2Z4qM_7I_ul"
      }
    },
    {
      "cell_type": "code",
      "source": [],
      "metadata": {
        "id": "NRSz7N9-J5hQ"
      },
      "execution_count": null,
      "outputs": []
    },
    {
      "cell_type": "markdown",
      "source": [
        "#### **Iterable and Iterator**\n",
        "*Iterable*\n",
        "+ In Python, an iterable is any object that can be looped over. \n",
        "+ Examples of iterables include lists, tuples, sets, dictionaries, and strings. \n",
        "+ An iterable is defined by implementing the `__iter__()` method, which returns an iterator object.\n",
        "\n",
        "*Iterator*\n",
        "+ An iterator is an object that produces the next value in an iterable sequence. \n",
        "+ In Python, an iterator is defined by implementing the `__next__()` method, which returns the next value in the sequence. \n",
        "+ When there are no more values to return, the `__next__()` method raises the `StopIteration` exception.\n",
        "+ An iterator can only be iterated once\n",
        "\n",
        "```\n",
        "numbers = [1, 2, 3]\n",
        "iterator = iter(numbers)\n",
        "\n",
        "print(next(iterator))\n",
        "print(next(iterator))\n",
        "print(next(iterator))\n",
        "next(iterator)\n",
        "\n",
        "list(iterator)\n",
        "```\n",
        "\n"
      ],
      "metadata": {
        "id": "PxUZ5AW4NsDQ"
      }
    },
    {
      "cell_type": "code",
      "source": [],
      "metadata": {
        "id": "HnIOEMSHPMA2"
      },
      "execution_count": null,
      "outputs": []
    },
    {
      "cell_type": "markdown",
      "source": [
        "## *Flow Control*"
      ],
      "metadata": {
        "id": "vkG1hWOZBU4s"
      }
    },
    {
      "cell_type": "markdown",
      "source": [
        "\n",
        "\n",
        "### **If-elif-else Statements**\n",
        "In Python, the if (elif, else) statements are used for conditional execution of code. It is used to make decisions based on the truth value of a condition.\n",
        "\n",
        "```\n",
        "if condition:\n",
        "    # code to be executed if condition is True\n",
        "elif condition2:\n",
        "    # code to be executed if condition2 is True and condition is False\n",
        "else:\n",
        "    # code to be executed if both condition and condition2 are False\n",
        "\n",
        "```\n",
        "\n",
        "Example:\n",
        "```\n",
        "x = -2\n",
        "\n",
        "if x > 0:\n",
        "    print(\"x is positive\")\n",
        "elif x < 0:\n",
        "    print(\"x is negative\")\n",
        "else:\n",
        "    print(\"x is zero\")\n",
        "\n",
        "```\n",
        "**Important** \n",
        "In Python, indentation is used to define the scope of a code block. \n",
        "+ Code blocks are used in control structures such as `if`, `for`, `while`, `def`, `class`, etc. \n",
        "+ In order to indicate which lines of code belong to a code block, you must indent them with whitespace (usually 4 spaces, but sometimes a tab is used instead).\n"
      ],
      "metadata": {
        "id": "OLRGIKzlF0-p"
      }
    },
    {
      "cell_type": "code",
      "source": [
        "x = -2\n",
        "\n",
        "if x > 0:\n",
        "    print(\"x is positive\")\n",
        "elif x < 0:\n",
        "    print(\"x is negative\")\n",
        "else:\n",
        "    print(\"x is zero\")"
      ],
      "metadata": {
        "colab": {
          "base_uri": "https://localhost:8080/"
        },
        "id": "wO8OKErdGy47",
        "outputId": "54c641b7-e0fe-4a81-fef2-97a8620719d0"
      },
      "execution_count": null,
      "outputs": [
        {
          "output_type": "stream",
          "name": "stdout",
          "text": [
            "x is negative\n"
          ]
        }
      ]
    },
    {
      "cell_type": "markdown",
      "source": [
        "### **For Loop**\n",
        "A `for` loop is used to iterate over a collection of elements (iterable, iterator), such as a list, tuple, string, or dictionary.\n",
        "```\n",
        "for variable in collection:\n",
        "    # code to be executed\n",
        "```\n",
        "\n",
        "```\n",
        "# iterate over a list\n",
        "for i in [2,3,4,5]:\n",
        "    print(i)\n",
        "\n",
        "# iterate over a dictionary\n",
        "my_dict = {\"apple\": 1, \"banana\": 2, \"orange\": 3}\n",
        "for key, value in my_dict.items():\n",
        "    print(key, value)\n",
        "\n",
        "```\n",
        "\n"
      ],
      "metadata": {
        "id": "ISYGYLqINCXW"
      }
    },
    {
      "cell_type": "code",
      "source": [],
      "metadata": {
        "id": "1MpkaJr3ODDF"
      },
      "execution_count": null,
      "outputs": []
    },
    {
      "cell_type": "markdown",
      "source": [
        "#### *Break and Continue*\n",
        "\n",
        "The `break` statement breaks out of the innermost enclosing `for` or `while` loop.\n",
        "```\n",
        "fruits = [\"apple\", \"banana\", \"cherry\", \"orange\", \"kiwi\"]\n",
        "for fruit in fruits:\n",
        "    if fruit == \"orange\":\n",
        "        break\n",
        "    print(fruit)\n",
        "\n",
        "```\n",
        "\n",
        "The `continue` statement continues with the next iteration of the loop (skip codes in the current iteration.):\n",
        "```\n",
        "fruits = [\"apple\", \"banana\", \"cherry\", \"orange\", \"kiwi\"]\n",
        "for fruit in fruits:\n",
        "    if fruit == \"orange\":\n",
        "        continue\n",
        "    print(fruit)\n",
        "\n",
        "```\n"
      ],
      "metadata": {
        "id": "0PAZMbab1TNs"
      }
    },
    {
      "cell_type": "code",
      "source": [],
      "metadata": {
        "id": "0kkro-w54TPe"
      },
      "execution_count": null,
      "outputs": []
    },
    {
      "cell_type": "markdown",
      "source": [
        "### While Loop\n",
        "The `while` statement is used for repeated execution as long as an expression is true:\n",
        "```\n",
        "count = 1\n",
        "while count <= 5:\n",
        "    print(count)\n",
        "    count += 1\n",
        "\n",
        "```"
      ],
      "metadata": {
        "id": "amKYkrzWCoEZ"
      }
    },
    {
      "cell_type": "code",
      "source": [],
      "metadata": {
        "id": "AsCnIQpbOEKt"
      },
      "execution_count": null,
      "outputs": []
    },
    {
      "cell_type": "markdown",
      "source": [
        "### Loop with `else` Clause\n",
        "\n",
        "Loop statements may have an `else` clause; \n",
        "+ The `else` clause is executed when the loop terminates through exhaustion of the iterable (with `for`) or when the condition becomes `false` (with `while`). \n",
        "+ It is not executed when the loop is terminated by a `break` statement. \n",
        "```\n",
        "fruits = [\"apple\", \"banana\", \"cherry\", \"orange\", \"kiwi\"]\n",
        "for fruit in fruits:\n",
        "    if fruit == \"pineapple\":\n",
        "        print(\"Pineapple is in the list!\")\n",
        "        break\n",
        "else:\n",
        "    print(\"Pineapple is not in the list.\")\n",
        "```"
      ],
      "metadata": {
        "id": "MSnoGzmi4lUT"
      }
    },
    {
      "cell_type": "code",
      "source": [],
      "metadata": {
        "id": "Ny5MOecFwEtt"
      },
      "execution_count": null,
      "outputs": []
    },
    {
      "cell_type": "markdown",
      "source": [
        "## *Functions*\n",
        "A function is a block of organized, reusable code that performs a specific task. \n",
        "\n",
        "Functions provide a way to break down complex programs into smaller, modular pieces, making them easier to understand, reuse, and maintain.\n",
        "\n"
      ],
      "metadata": {
        "id": "1rrttn1qOfmR"
      }
    },
    {
      "cell_type": "markdown",
      "source": [
        "### **Define a Function**\n",
        "+ functions are defined using the `def` keyword, followed by the function name, any parameters the function takes in (if any), and a colon `:`. \n",
        "+ The function code block is then indented, typically by four spaces or a tab. \n",
        "```\n",
        "def add_numbers(a, b):\n",
        "    result = a + b\n",
        "    return result\n",
        "```\n",
        "+ The `return` statement is optional. If there is no `return` statement in the body of the function, `None` will be returned when the function is called.\n",
        "\n",
        "To use this function, you can simply call it with two arguments, like this:\n",
        "```\n",
        "sum = add_numbers(3, 5)\n",
        "print(sum)\n",
        "```\n",
        "\n"
      ],
      "metadata": {
        "id": "FbpBJTQPdTn6"
      }
    },
    {
      "cell_type": "code",
      "source": [
        "def add_numbers(a, b):\n",
        "  result = a + b\n",
        "  return result\n",
        "sum = add_numbers(3, 5)\n",
        "print(sum)"
      ],
      "metadata": {
        "colab": {
          "base_uri": "https://localhost:8080/"
        },
        "id": "MiJ0EBhwpBAn",
        "outputId": "1d47dc2d-1e7a-4da3-c683-4ccec3a26aa0"
      },
      "execution_count": null,
      "outputs": [
        {
          "output_type": "stream",
          "name": "stdout",
          "text": [
            "8\n"
          ]
        }
      ]
    },
    {
      "cell_type": "markdown",
      "source": [
        "Fucntions are the first class citizen in Python\n",
        "  + A function can be assigned to a name in an asighment statement\n",
        "  ```\n",
        "  def fcn():\n",
        "       print(\"I am a function\")\n",
        "  fcn_1 = fcn  \n",
        "  ```\n",
        "  + Funcations can be passed to another function as arguments (higher order function)\n",
        "  + A function can be returned by another function (higher order function).\n",
        "\n",
        "Functions are callables, something that can be involked by using `()` and return a value.\n",
        "```\n",
        "math.sqrt(4) # calling the function sqrt with parameter 4, will return 2\n",
        "```\n",
        "Functions are Python objects\n",
        "  + Can have attributes\n",
        "  + Can have methods \n",
        "  ```\n",
        "  def fcn(a):\n",
        "     print(a)\n",
        "\n",
        "  fcn.__name__ \n",
        "  Out: 'fcn'  \n",
        "  ```  \n"
      ],
      "metadata": {
        "id": "VOWwpft9A9_E"
      }
    },
    {
      "cell_type": "code",
      "source": [],
      "metadata": {
        "id": "uLoiwRrypSiH"
      },
      "execution_count": null,
      "outputs": []
    },
    {
      "cell_type": "markdown",
      "source": [
        "#### *Parameter vs Argument*\n",
        "\n",
        "* When you define a function, the names (object references) in the function definition are called **parameters** \n",
        "\n",
        "* When the function is called, the values or names (object references) passed to the function are called **arguments**.\n",
        "\n",
        "```{}\n",
        "def fcn(parameter_1, parameter_2):\n",
        "      print(parameter_1, parameter_2)\n",
        "      return 0\n",
        "  \n",
        "print(fcn(20, \"abc\")) # 20 and \"abc\" are called arguments.\n",
        "print(fcn(12, parameter_2 = 20))\n",
        "```\n"
      ],
      "metadata": {
        "id": "6K-rhXtAjN44"
      }
    },
    {
      "cell_type": "code",
      "source": [],
      "metadata": {
        "id": "yzXXa2_SjX_y"
      },
      "execution_count": null,
      "outputs": []
    },
    {
      "cell_type": "markdown",
      "source": [
        "##### **Function parameters**\n",
        "+ Positional-only parameter\n",
        "+ Positional-keyword parameter\n",
        "+ Variable-length positional parameter\n",
        "+ Keyword only paramter\n",
        "+ Variable-length keyword parameter\n",
        "    \n"
      ],
      "metadata": {
        "id": "VVnm-Cj2lEPk"
      }
    },
    {
      "cell_type": "markdown",
      "source": [
        "\n",
        "###### _positional-only parameter (Python 3.8 and later)_\n",
        "+ When the function is called, we can only use positional argument for this type of parameters. Cannot use keyword argument\n",
        "      \n",
        "  ```\n",
        "  ## All parameters defined before / are positinal-only   \n",
        "  def fcn(p1, /): \n",
        "      print(p1)\n",
        "            \n",
        "  fcn(10) # positional argument\n",
        "  # 10\n",
        "  fcn(p1 = 10) # keyword argument\n",
        "  #TypeError: fcn() got some positional-only arguments passed as keyword arguments: 'p1'\n",
        "         \n",
        "  ## Positional-only parameter can have a default value. \n",
        "  ## It is also called an optional (default) positional-only parameter\n",
        "         \n",
        "  def fcn(p1, p2 = 10, /): # p2 is optional\n",
        "      print(p1, p2)\n",
        "             \n",
        "  fcn(20) \n",
        "  # Output: 20 10\n",
        "  fcn(20, 30)\n",
        "  # Output: 20 30\n",
        "  ```"
      ],
      "metadata": {
        "id": "88k8Z7WQkr63"
      }
    },
    {
      "cell_type": "code",
      "source": [],
      "metadata": {
        "id": "EdCLrDFlk2fo"
      },
      "execution_count": null,
      "outputs": []
    },
    {
      "cell_type": "markdown",
      "source": [
        "###### _Positional-keyword parameter_ \n",
        "+ Can be called using either positional or keyword argument.\n",
        "            \n",
        "  ```\n",
        "  # p1 is positional-keyword parameter, as no / in presence.\n",
        "  def fcn(p1): \n",
        "      print(p1)\n",
        "            \n",
        "  fcn(10)\n",
        "  # 10\n",
        "  fcn(p1 = 10)\n",
        "  # 10\n",
        "            \n",
        "  # p1 is positional-only, p2 is positional-keyword parameter.          \n",
        "  def fcn(p1, /, p2): \n",
        "      print(p1, p2)\n",
        "            \n",
        "  fcn(10, 20)   \n",
        "  # 10 20\n",
        "  fcn(10, p2 = 20)\n",
        "  # 10 20\n",
        "  ```\n",
        "          "
      ],
      "metadata": {
        "id": "BiG7F3o3oj-Z"
      }
    },
    {
      "cell_type": "code",
      "source": [],
      "metadata": {
        "id": "h4uCGWwFo91V"
      },
      "execution_count": null,
      "outputs": []
    },
    {
      "cell_type": "markdown",
      "source": [
        "###### *Variable-length positional parameter*\n",
        "  \n",
        "```\n",
        "def fcn(*var_p): ## var_p is a variable length positional parameter\n",
        "    print(var_p)\n",
        "              \n",
        "fcn(10, 30, 50)  \n",
        "# (10, 30, 50) \n",
        "# notice that var_p is a tuple.\n",
        "          \n",
        "def fcn(p1, p2, /, p3, p4, *var_p):\n",
        "    print(p1, p2, p3, p4, var_p)\n",
        "          \n",
        "fcn(10, 20, 30, 40, 50, 60, 70)\n",
        "# 10 20 30 40 (50, 60, 70)          \n",
        "```"
      ],
      "metadata": {
        "id": "4i9S_Swvpnw2"
      }
    },
    {
      "cell_type": "code",
      "source": [],
      "metadata": {
        "id": "af16me69qga2"
      },
      "execution_count": null,
      "outputs": []
    },
    {
      "cell_type": "markdown",
      "source": [
        "###### *Keyword-only parameter*\n",
        "      \n",
        "+ keyword-only parameter without default value (required keyword-only parameter)\n",
        "        \n",
        "+ keyword-only parameter with default value (optional keyword-only parameter)\n",
        "         \n",
        "  ```\n",
        "  ## anything after * is keyword-only parameter\n",
        "  def fcn(*, kp1, kp2 =20): \n",
        "      print(kp1, kp2)\n",
        "             \n",
        "  fcn(10)\n",
        "  # TypeError: fcn() takes 0 positional arguments but 1 was given\n",
        "  fcn(kp1 = 10)\n",
        "  # 10 20\n",
        "  fcn(kp2 = 30, kp1 = 10)\n",
        "  # 10 30\n",
        "  ```"
      ],
      "metadata": {
        "id": "Jyn11JIgqg28"
      }
    },
    {
      "cell_type": "code",
      "source": [],
      "metadata": {
        "id": "XpwselcAqosq"
      },
      "execution_count": null,
      "outputs": []
    },
    {
      "cell_type": "markdown",
      "source": [
        "###### *Variable length keyword-only parameter*\n",
        "      \n",
        "  ```\n",
        "  ## kwvar_p is a variable length keyword-only parameter\n",
        "  def fcn(**kwvar_p): \n",
        "      print(kwvar_p)\n",
        "             \n",
        "  fcn(10, 20)\n",
        "  # TypeError: fcn() takes 0 positional arguments but 2 were given\n",
        "          \n",
        "  fcn(p1 = 10, p2 = 20)\n",
        "  # {'p1': 10, 'p2': 20}\n",
        "  # notice that kwvar_p is a dictionary.\n",
        "  ```\n"
      ],
      "metadata": {
        "id": "z9aH5o88qpfv"
      }
    },
    {
      "cell_type": "code",
      "source": [],
      "metadata": {
        "id": "Q6VqzSMkq6uD"
      },
      "execution_count": null,
      "outputs": []
    },
    {
      "cell_type": "markdown",
      "source": [
        "###### _The order of parameters in a function definition_\n",
        "\n",
        "  1. Positional-only parameter(s)\n",
        "  2. Positional-keyword parameter(s)\n",
        "  3. Variable length positional parameter\n",
        "  4. Keyword-only parameter(s)\n",
        "  5. Variable length keyword-only parameter\n",
        "    \n",
        "For example:\n",
        "      \n",
        "  ```\n",
        "  def fcn(pos_only, /, pos_keyword, *var_pos, *, keyword_only, **var_keyword_only):\n",
        "      pass\n",
        "  ```\n",
        "\n",
        "+ Non-default (non-optional, required) positional parameter can not follow default (optional) positional parameter.\n",
        "  \n",
        "  ```\n",
        "  def fcn(p1, p2 = 2,/, p3):\n",
        "      pass\n",
        "  # SyntaxError: non-default argument follows default argument\n",
        "    \n",
        "  def fcn(p2=2, p3):\n",
        "      pass\n",
        "  # SyntaxError: non-default argument follows default argument   \n",
        "    \n",
        "  def fcn(p1 , /, p2=2, p3, p4):\n",
        "      pass\n",
        "    \n",
        "  # SyntaxError: non-default argument follows default argument   \n",
        "  ```\n",
        "\n",
        "+ But this rule dose NOT apply to keyword-only parameters. \n",
        "  ```\n",
        "  def fcn(p1, p2=10, /, *, kp1):\n",
        "      print(p1, p2, kp1)\n",
        "    \n",
        "  fcn(5,20, kp1 =30)\n",
        "  # 5 20 30\n",
        "    \n",
        "  def fcn(p1, p2=10, /, p3 = 5, *, kp1, kp2 = 20, kp3):\n",
        "      print(p1, p2, p3, kp1, kp2, kp3)\n",
        "        \n",
        "  fcn(5, 15, 25, kp1 = 30, kp3 = 40)\n",
        "  # 5 15 25 30 20 40    \n",
        "  ```  "
      ],
      "metadata": {
        "id": "At8lImP3r3Lj"
      }
    },
    {
      "cell_type": "code",
      "source": [],
      "metadata": {
        "id": "ZSep3SA4sR9T"
      },
      "execution_count": null,
      "outputs": []
    },
    {
      "cell_type": "markdown",
      "source": [
        "  \n",
        "###### _The order of arguments in a function call_\n",
        "\n",
        "  1. Positional argument(s)\n",
        "  2. Keyword argument(s)\n",
        "  \n",
        "For example:\n",
        "```\n",
        "fcn(10, 'abc', arg1 = 30, arg2 = 50)\n",
        "```\n",
        "\n",
        "When calling a function, any argument after a keyword argument MUST be keyword argument\n",
        "  \n",
        "  ```\n",
        "  def fcn(p1, p2): # p1, p2 are positional-keyword parameters\n",
        "      print(p1, p2)\n",
        "      \n",
        "  fcn(p1=2, p2)    \n",
        "  # SyntaxError: positional argument follows keyword argument\n",
        "  ```\n",
        "  \n",
        "\n",
        "    \n",
        "\n",
        "\n",
        "\n"
      ],
      "metadata": {
        "id": "Ap0MHVokDNUx"
      }
    },
    {
      "cell_type": "markdown",
      "source": [
        "##### *Matching Argments to Parameters*\n",
        " \n",
        "When a function is called, \n",
        "+ the positional argument(s) are first matched to positional parameter(s) (positional-only, positional-keyword, variable length positional)\n",
        "+ then keyword argument(s) are matched to corresponding parameters with the same names. \n",
        "\n",
        "Be aware of the following error:\n",
        "  \n",
        "  ```\n",
        "  def fcn(p1, p2):\n",
        "      print(p1, p2)\n",
        "        \n",
        "  fcn(10, 20, p1 = 30) \n",
        "  # TypeError: fcn() got multiple values for argument 'p1'\n",
        "  ```\n",
        "    \n"
      ],
      "metadata": {
        "id": "CE_WTX7mhKPF"
      }
    },
    {
      "cell_type": "code",
      "source": [],
      "metadata": {
        "id": "kjCNe0-ytcB_"
      },
      "execution_count": null,
      "outputs": []
    },
    {
      "cell_type": "markdown",
      "source": [
        "##### _Function call with `*` and `**`_\n",
        "\n",
        "A funciton can also be called with 'tuple unpacking' and 'dictionary unpacking'\n",
        "  \n",
        "```\n",
        "def fcn(p1, p2, p3, p4):\n",
        "    print(p1, p2, p3, p4)\n",
        "\n",
        "tup1 = (1,2)\n",
        "dict1 = {\"p3\": 3, \"p4\": 4}   #here keys must match the name of the function parameters\n",
        "\n",
        "fcn(*tup1, **dict1)\n",
        "# 1 2 3 4\n",
        "\n",
        "fcn(**dict1, *tup1)\n",
        "# SyntaxError: iterable argument unpacking follows keyword argument unpacking\n",
        "```  \n",
        "\n"
      ],
      "metadata": {
        "id": "gChnQPCbtcar"
      }
    },
    {
      "cell_type": "code",
      "source": [],
      "metadata": {
        "id": "CpV02zp_tfrg"
      },
      "execution_count": null,
      "outputs": []
    },
    {
      "cell_type": "markdown",
      "source": [
        "##### _Local Namespace_  \n",
        "When a function is called, Python will \n",
        "+ create a empty dictionary\n",
        "+ create `key:value` pairs. Parameters are keys, and arguments are values.\n",
        "+ run the code with this dict (it is called local namespace). When code is running, the local namespace may be changed as new local variables may be defined in the code.\n",
        "+ when the function call is done, the local namespace is eliminated.\n",
        "\n",
        "We can use `locals()` inside the fucntion to see the local namespace.\n",
        "  "
      ],
      "metadata": {
        "id": "0X_Iyy4ItgM7"
      }
    },
    {
      "cell_type": "markdown",
      "source": [
        "##### *Pass by Obeject Reference*\n",
        "\n",
        "In a function call, variables are passed by object reference. This means that when you pass a variable to a function, you are passing a reference to the object in memory that the variable is referencing, rather than a copy of the object itself.\n",
        "\n",
        "For example, consider the following code:\n",
        "\n",
        "```\n",
        "def my_function(my_list):\n",
        "    my_list.append(4)\n",
        "    print(\"Inside function: my_list =\", my_list)\n",
        "\n",
        "a = [1, 2, 3]\n",
        "my_function(a)\n",
        "print(\"Outside function: a =\", a)\n",
        "\n",
        "# Local variable\n",
        "def my_function(my_list):\n",
        "    my_list = [5,6,7]\n",
        "    my_list.append(4)\n",
        "    print(\"Inside function: my_list =\", my_list)\n",
        "\n",
        "a = [1, 2, 3]\n",
        "my_function(a)\n",
        "print(\"Outside function: a =\", a)\n",
        "\n",
        "```\n"
      ],
      "metadata": {
        "id": "E8TH_VzXnnT3"
      }
    },
    {
      "cell_type": "code",
      "source": [],
      "metadata": {
        "id": "XIW1yTIAoIuY"
      },
      "execution_count": null,
      "outputs": []
    },
    {
      "cell_type": "markdown",
      "source": [
        "### *Lambda function*\n",
        "\n",
        "In Python, a lambda function (also known as an anonymous function) is a small, single-expression function that does not have a name. \n",
        "\n",
        "+ Lambda functions are defined using the `lambda` keyword \n",
        "+ followed by the function's parameters (if any), a colon `:`, and the expression to be evaluated. \n",
        "+ The expression is then returned as the result of the function.\n",
        "```\n",
        "sum = lambda a, b: a + b\n",
        "```\n",
        "\n",
        "The lambda function can be called like a regular function:\n",
        "\n",
        "```\n",
        "result = sum(3, 5)\n",
        "print(result)\n",
        "```\n",
        "\n",
        "Lambda functions are often used in combination with higher-order functions like `map`, `filter`, and `reduce` to create concise and expressive code. \n",
        "\n",
        "```\n",
        "numbers = [1, 2, 3, 4, 5]\n",
        "squares = map(lambda x: x**2, numbers)\n",
        "print(list(squares))\n",
        "\n",
        "squares_2 = map(lambda x,y: x**2+y, numbers, numbers)\n",
        "print(list(squares_2))\n",
        "```\n",
        "\n",
        "\n",
        "\n",
        "\n"
      ],
      "metadata": {
        "id": "4BQ0Mj_vvJ_i"
      }
    },
    {
      "cell_type": "code",
      "source": [],
      "metadata": {
        "id": "AeXmZ3hBwg7C"
      },
      "execution_count": null,
      "outputs": []
    },
    {
      "cell_type": "markdown",
      "source": [
        "```\n",
        "numbers = [1, 2, 3, 4, 5, 6]\n",
        "filtered_numbers = filter(lambda x: x % 2 != 0, numbers)\n",
        "print(list(filtered_numbers))\n",
        "```\n"
      ],
      "metadata": {
        "id": "DNxDnxO_whVL"
      }
    },
    {
      "cell_type": "code",
      "source": [],
      "metadata": {
        "id": "SUSlx0-LyNwY"
      },
      "execution_count": null,
      "outputs": []
    },
    {
      "cell_type": "markdown",
      "source": [
        "**Reduce function**\n",
        "In Python, the `reduce` function is a built-in higher-order function in the `functools` module \n",
        "+ It takes in a function and an iterable as arguments \n",
        "+ returns a single value that is the result of applying the function to the elements of the iterable in a cumulative way. \n",
        "+ The function passed into reduce must take in two arguments and return a single value.\n",
        "\n",
        "```\n",
        "from functools import reduce\n",
        "\n",
        "# Product of a list of numbers\n",
        "numbers = [1, 2, 3, 4, 5]\n",
        "product = reduce(lambda x, y: x * y, numbers)\n",
        "print(product)\n",
        "\n",
        "# Maximum value in a list of numbers\n",
        "numbers = [1, 5, 2, 7, 3, 8, 4]\n",
        "def find_max(x, y):\n",
        "    if x > y:\n",
        "        return x\n",
        "    else:\n",
        "        return y\n",
        "\n",
        "max_number = reduce(find_max, numbers)\n",
        "print(max_number)\n",
        "```"
      ],
      "metadata": {
        "id": "Pcx-MoQvyOK0"
      }
    },
    {
      "cell_type": "code",
      "source": [],
      "metadata": {
        "id": "FpMGL4gos5l8"
      },
      "execution_count": null,
      "outputs": []
    },
    {
      "cell_type": "markdown",
      "source": [
        "## *Comprehensions in Python*\n"
      ],
      "metadata": {
        "id": "M3Zx2fSYPxBF"
      }
    },
    {
      "cell_type": "markdown",
      "source": [
        "### **List Comprehension**\n",
        "\n",
        "List comprehension is a concise way to create new lists in Python. \n",
        "+ It allows you to create a new list by applying an **expression** to each element of an existing list (or other iterable object)\n",
        "+ You can also filter the elements based on a condition. \n",
        "\n",
        "+ The syntax of a list comprehension is as follows:\n",
        "```\n",
        "new_list = [expression for item in iterable if condition]\n",
        "```\n",
        "    + `new_list` is the new list that will be created\n",
        "    + `expression` is the operation to be applied to each item in the iterable\n",
        "    + `item` is a variable that represents each item in the iterable\n",
        "    + `iterable` is the existing list or other iterable that the list comprehension is based on\n",
        "    + `condition` is an optional condition that filters the elements in the iterable\n"
      ],
      "metadata": {
        "id": "izMq5FR1P-Cd"
      }
    },
    {
      "cell_type": "markdown",
      "source": [
        "Examples:\n",
        "```\n",
        "# create a list of squares of numbers from 1 to 10\n",
        "squares = [x**2 for x in range(1, 11)]\n",
        "print(squares)  # Output: [1, 4, 9, 16, 25, 36, 49, 64, 81, 100]\n",
        "\n",
        "# Create a list of even numbers from 1 to 10:\n",
        "even_numbers = [x for x in range(1, 11) if x % 2 == 0]\n",
        "print(even_numbers)  # Output: [2, 4, 6, 8, 10]\n",
        "\n",
        "# Create a list of common elements from two given lists:\n",
        "list1 = [1, 2, 3, 4, 5]\n",
        "list2 = [3, 4, 5, 6, 7]\n",
        "common_elements = [x for x in list1 if x in list2]\n",
        "print(common_elements)  # Output: [3, 4, 5]\n",
        "\n",
        "# Create a 3x3 matrix (list of lists)\n",
        "matrix = [[i+j for j in range(3)] for i in range(0, 9, 3)]\n",
        "print(matrix)  # Output: [[0, 1, 2], [3, 4, 5], [6, 7, 8]]\n",
        "\n",
        "```"
      ],
      "metadata": {
        "id": "soLjX7YRCbL9"
      }
    },
    {
      "cell_type": "code",
      "source": [],
      "metadata": {
        "id": "va5DKjtQRFs0"
      },
      "execution_count": null,
      "outputs": []
    },
    {
      "cell_type": "markdown",
      "source": [
        "### **Dictionary Comprehension**\n",
        "Dictionary comprehension is similar to list comprehension, but instead of creating a new list, it creates a new dictionary \n",
        "+ It applies an expression to each `key-value` pair in an existing dictionary (or other iterable) \n",
        "+ It can also filter the `key-value` pairs based on a condition. \n",
        "\n",
        "The syntax of a dictionary comprehension is as follows:\n",
        "```\n",
        "new_dict = {key_expression: value_expression for item in iterable if condition}\n",
        "```"
      ],
      "metadata": {
        "id": "2NzFXUoHQB6P"
      }
    },
    {
      "cell_type": "markdown",
      "source": [
        "Examples:\n",
        "```\n",
        "# Create a dictionary of squares of numbers from 1 to 5\n",
        "squares = {x: x**2 for x in range(1, 6)}\n",
        "print(squares)  # Output: {1: 1, 2: 4, 3: 9, 4: 16, 5: 25}\n",
        "\n",
        "# Create a new dictionary that contains only the items with values greater than or equal to 3 from an existing dictionary:\n",
        "original_dict = {'apple': 2, 'banana': 3, 'orange': 4, 'peach': 1}\n",
        "new_dict = {k: v for k, v in original_dict.items() if v >= 3}\n",
        "print(new_dict)  # Output: {'banana': 3, 'orange': 4}\n",
        "\n",
        "# Create a new dictionary that maps each letter in a string to its frequency:\n",
        "sentence = 'Dictionary comprehension is similar to list comprehension'\n",
        "letter_freq = {letter: sentence.count(letter) for letter in sentence if letter.isalpha()}\n",
        "print(letter_freq)  # {'D': 1, 'i': 8, 'c': 3, 't': 3, 'o': 6, 'n': 5, 'a': 2, 'r': 4, 'y': 1, 'm': 3, 'p': 2, 'e': 4, 'h': 2, 's': 5, 'l': 2}\n",
        "\n",
        "\n",
        "```"
      ],
      "metadata": {
        "id": "d44DwsG9Fetw"
      }
    },
    {
      "cell_type": "code",
      "source": [],
      "metadata": {
        "id": "5beVuZcaRFOK"
      },
      "execution_count": null,
      "outputs": []
    },
    {
      "cell_type": "markdown",
      "source": [
        "### **Generator Expression**\n",
        "\n",
        "A generator expression in Python is a concise way to create an iterator that generates a sequence of values on-the-fly, rather than storing them all in memory like a list or tuple. It has a similar syntax to a list comprehension, but with parentheses instead of square brackets. Here's the basic syntax of a generator expression:\n",
        "```\n",
        "generator = (expression for item in iterable if condition)\n",
        "\n",
        "```\n",
        "\n",
        "#### *Lazy Evaluation*\n",
        "Generator expressions are useful when you need to iterate over a large sequence of items, but you don't want to store all of them in memory at once.\n",
        "\n",
        "Instead, the generator expression generates the values one at a time, only when they are needed.\n",
        "\n",
        "Examples:\n",
        "```\n",
        "# Create a generator that yields the squares of numbers from 1 to 5\n",
        "squares = (x**2 for x in range(1, 6))\n",
        "print(squares)  # Output: <generator object <genexpr> at ........>\n",
        "print(list(squares))  # Output: [1, 4, 9, 16, 25]\n",
        "\n",
        "```"
      ],
      "metadata": {
        "id": "TJvmTwg7QM69"
      }
    },
    {
      "cell_type": "code",
      "source": [],
      "metadata": {
        "id": "1xeak6npREg-"
      },
      "execution_count": null,
      "outputs": []
    },
    {
      "cell_type": "markdown",
      "source": [
        "## *Packages and Modules*\n",
        "\n",
        "### **Module**\n",
        "A Python module is a Python code file (`.py` file)  \n",
        "+ It is a way to organize code into reusable, standalone components that can be easily imported and used in other Python programs. \n",
        "+ Modules allow you to break up your code into logical, reusable pieces that can be shared and reused by other developers.\n",
        "+ Python modules can define functions, classes, variables, and constants that can be used in other Python programs. \n",
        "+ Modules can also include executable code that runs when the module is imported, allowing you to define initialization logic or other setup code that should be executed when the module is loaded.\n",
        "\n",
        "### **Package**\n",
        "\n",
        "A Python package is a way to organize related modules into a single namespace, making it easier to manage and import modules in your Python program. \n",
        "+ A package is simply a directory containing Python modules, along with a special file called `init.py` that is executed when the package is imported.\n",
        "+ Packages can contain sub-packages, which are themselves packages nested within the main package. This allows for a hierarchical structure of packages and modules that can be organized in a logical way.\n",
        "\n"
      ],
      "metadata": {
        "id": "x_GNKFiQRGYa"
      }
    },
    {
      "cell_type": "markdown",
      "source": [
        "***tasks:*** Import Packages/Modules\n",
        "\n",
        "```\n",
        "# Use import statement\n",
        "import pandas # pandas will be the name for referencing the Pandas package object\n",
        "\n",
        "import pandas as pd # pd will be the name to use. But we can not use symbol pandas. \n",
        "\n",
        "pd.Series([1,2])\n",
        "pandas.Series([1,2]) # NameError: name 'pandas' is not defined\n",
        "\n",
        "# Use from ... import ... statement\n",
        "from math import sqrt, cos # sqrt and cos will be in the namespace, can be directly called. BUT math is not in the namespace\n",
        "```\n",
        "\n",
        "You can access the functions, classes, and constants in the module using dot notation, for example:\n",
        "```\n",
        "pd.DataFrame([[1,2], [3,4]])\n",
        "```"
      ],
      "metadata": {
        "id": "M5l91yIgvEXI"
      }
    },
    {
      "cell_type": "code",
      "source": [],
      "metadata": {
        "id": "bnmMOipiRRr-"
      },
      "execution_count": null,
      "outputs": []
    },
    {
      "cell_type": "markdown",
      "source": [
        "***Note***\n",
        "\n",
        "When the import statement is executed in Python, several things happen under the hood:\n",
        "\n",
        "1. Search for module: The Python interpreter searches for the module in the search path \n",
        "  + Search path is a list of directories where Python looks for modules. \n",
        "  + The search path includes \n",
        "    + the current directory \n",
        "    + directories listed in the `PYTHONPATH` environment variable. \n",
        "\n",
        "2. Compile the module: If the module is found, the Python interpreter compiles it into byte code. This is done to improve the speed of execution when the module is used repeatedly.\n",
        "\n",
        "3. Create a module object: The compiled byte code is loaded into memory and a module object is created to represent the module. This module object contains the names defined in the module's namespace, including functions, classes, and variables.\n",
        "\n",
        "4. Execute the module code: The module code is executed and the names defined in the module's namespace are made available for use in the importing module.\n",
        "\n",
        "5. Bind the module object to a name: Finally, the module object is bound to a name in the importing module's namespace. This name can be used to access the names defined in the imported module.\n",
        "\n",
        "If the module has already been imported, Python will skip the first two steps and load the already compiled module from memory. This is done to save time and resources.\n",
        "\n",
        "\n",
        "\n",
        "\n"
      ],
      "metadata": {
        "id": "NkRQZskk_ZbU"
      }
    },
    {
      "cell_type": "markdown",
      "source": [
        "## *Unicode and UTF-8 Encoding*\n",
        "\n",
        "Unicode and UTF-8 are related but distinct concepts in computer science. Unicode defines what each character means, while UTF-8 defines how each character is represented in binary form.\n",
        "\n",
        "+ Unicode is a standard character encoding system that assigns **a unique numeric code point to every character** in the world's writing systems. \n",
        "https://en.wikipedia.org/wiki/List_of_Unicode_characters\n",
        "\n",
        "+ UTF-8 is a variable-length character encoding system that can **represent all Unicode code points using one to four bytes**. UTF-8 is the most widely used encoding for the World Wide Web and other modern computing applications. \n",
        "https://en.wikipedia.org/wiki/UTF-8\n",
        "\n",
        "+ Beside UTF-8, there are other encoding systems, such as: ASCII, UTF-16, UTF-32\n",
        "\n"
      ],
      "metadata": {
        "id": "M5pGvR2p0QR3"
      }
    },
    {
      "cell_type": "markdown",
      "source": [
        "\n",
        "In Python, Unicode strings are represented using the `str` data type, which can store characters from any writing system in the world.\n",
        "\n",
        "Python uses the UTF-8 encoding by default for Unicode strings. \n",
        "+ When you create a string literal in your Python code using quotes (either single or double), the characters in the string are automatically encoded using UTF-8. For example:\n",
        "\n",
        "```\n",
        "my_string = \"Hello, 世界!\"\n",
        "print(my_string)\n",
        "```\n",
        "\n",
        "You can also create Unicode strings using escape sequences that represent Unicode code points in hexadecimal notation. For example:\n",
        "\n",
        "```\n",
        "#  The escape sequences use the \\u prefix followed by a four-digit hexadecimal code point for each character.\n",
        "\n",
        "my_string = \"\\u0048\\u0065\\u006C\\u006C\\u006F, \\u4E16\\u754C!\"\n",
        "print(my_string)\n",
        "```\n",
        "\n",
        "\n",
        "\n",
        "\n",
        "\n"
      ],
      "metadata": {
        "id": "wFhzeY26y0hi"
      }
    },
    {
      "cell_type": "code",
      "source": [],
      "metadata": {
        "id": "Tpri17rV0OnV"
      },
      "execution_count": null,
      "outputs": []
    },
    {
      "cell_type": "markdown",
      "source": [
        "### **Encode() and Decode()**\n",
        "\n",
        "*Encode() string method*\n",
        "\n",
        "The `encode()` method is used to convert a string from its Unicode representation to a specified character encoding. \n",
        "\n",
        "It returns a bytes object that contains the encoded version of the string. Here's an example:\n",
        "```\n",
        "string = \"Hello, world!\"\n",
        "encoded_string = string.encode(\"utf-8\")\n",
        "print(encoded_string)\n",
        "```\n",
        "\n",
        "*Decode() byte string method*\n",
        "\n",
        "The `decode()` method is used to convert a bytes object to a string in a specified character encoding. Here's an example:\n",
        "\n",
        "```\n",
        "encoded_string = b'Hello, world!'\n",
        "decoded_string = encoded_string.decode(\"utf-8\")\n",
        "print(decoded_string)\n",
        "```\n",
        "\n",
        "**Note**\n",
        "\n",
        "It's important to note that when using encode() and decode(), it's necessary to use the same character encoding for both functions to ensure that the data is properly converted. "
      ],
      "metadata": {
        "id": "kKo0Nl65BHF_"
      }
    },
    {
      "cell_type": "code",
      "source": [],
      "metadata": {
        "id": "XRiF1YjVCdhG"
      },
      "execution_count": null,
      "outputs": []
    },
    {
      "cell_type": "markdown",
      "source": [
        "### **Byte String**\n",
        "\n",
        "In Python, a byte string is a sequence of bytes that represents a string of characters. Byte strings are often used to store binary data or data that is not in human-readable format.\n",
        "\n",
        "```\n",
        "byte_string = b\"hello world\" # create a byte string using the b prefix\n",
        "byte_string = bytes([0x68, 0x65, 0x6c, 0x6c, 0x6f, 0x20, 0x77, 0x6f, 0x72, 0x6c, 0x64]) # create a byte string using the bytes() constructor and a list of byte values\n",
        "```\n",
        "\n",
        "+ Byte strings can be used to represent non-textual data, such as images, audio files, and binary data. \n",
        "+ They can also be used for network communication, file input/output \n",
        "+ Other operations where data needs to be transmitted in a raw byte format.\n",
        "\n",
        "It's important to note that byte strings are not the same as Unicode strings, which represent human-readable text. While Unicode strings can be encoded into byte strings using a specific character encoding, byte strings cannot be decoded into Unicode strings unless the original encoding is known.\n"
      ],
      "metadata": {
        "id": "tHsVAYDgCeAa"
      }
    },
    {
      "cell_type": "markdown",
      "source": [
        "# **Python Learning Resources**\n",
        "\n",
        "+ Python.org - The official Python website offers beginner guides, documentation, and tutorials. https://www.python.org/\n",
        "\n",
        "+ Python for Everybody - A free online course offered by the University of Michigan \n",
        "that covers the basics of Python programming. https://www.py4e.com/\n",
        "\n",
        "+ Python Crash Course - A book by Eric Matthes that covers the basics of Python programming and includes hands-on projects.\n",
        "\n",
        "+ Real Python - A website that offers a collection of Python tutorials, articles, and resources for learners of all levels. https://realpython.com/\n",
        "\n",
        "These resources should give you a good starting point to learn Python.\n"
      ],
      "metadata": {
        "id": "s2F215NPTvnX"
      }
    }
  ]
}